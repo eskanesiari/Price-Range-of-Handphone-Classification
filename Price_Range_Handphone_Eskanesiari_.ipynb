{
  "nbformat": 4,
  "nbformat_minor": 0,
  "metadata": {
    "colab": {
      "provenance": []
    },
    "kernelspec": {
      "name": "python3",
      "display_name": "Python 3"
    },
    "language_info": {
      "name": "python"
    }
  },
  "cells": [
    {
      "cell_type": "code",
      "execution_count": null,
      "metadata": {
        "colab": {
          "base_uri": "https://localhost:8080/"
        },
        "id": "iWxScI8il9tp",
        "outputId": "1460b128-5908-42e1-80b6-6b9f2ee9e12e"
      },
      "outputs": [
        {
          "output_type": "stream",
          "name": "stdout",
          "text": [
            "(1500, 22)\n",
            "(500, 21)\n"
          ]
        }
      ],
      "source": [
        "#Import library dan data\n",
        "import pandas as pd\n",
        "import numpy as np\n",
        "\n",
        "df_train_raw = pd.read_csv('train.csv')\n",
        "df_test_raw = pd.read_csv('test.csv')\n",
        "\n",
        "df_train = df_train_raw.copy()\n",
        "df_test = df_test_raw.copy()\n",
        "\n",
        "print(df_train.shape)\n",
        "print(df_test.shape)"
      ]
    },
    {
      "cell_type": "code",
      "source": [
        "#Mempelajari data\n",
        "df_train.info()"
      ],
      "metadata": {
        "colab": {
          "base_uri": "https://localhost:8080/"
        },
        "id": "cwxGfCyHmgng",
        "outputId": "76511806-7913-41b5-da27-48121d3a97a2"
      },
      "execution_count": null,
      "outputs": [
        {
          "output_type": "stream",
          "name": "stdout",
          "text": [
            "<class 'pandas.core.frame.DataFrame'>\n",
            "RangeIndex: 1500 entries, 0 to 1499\n",
            "Data columns (total 22 columns):\n",
            " #   Column              Non-Null Count  Dtype  \n",
            "---  ------              --------------  -----  \n",
            " 0   index               1500 non-null   int64  \n",
            " 1   daya_baterai        1500 non-null   int64  \n",
            " 2   bluetooth           1500 non-null   int64  \n",
            " 3   kecepatan_clock     1450 non-null   float64\n",
            " 4   dual_sim            1500 non-null   int64  \n",
            " 5   kamera_depan        1500 non-null   int64  \n",
            " 6   four_g              1500 non-null   object \n",
            " 7   memori_internal     1500 non-null   int64  \n",
            " 8   tebal_hp            1500 non-null   float64\n",
            " 9   berat_hp            1500 non-null   int64  \n",
            " 10  jumlah_prosesor     1500 non-null   int64  \n",
            " 11  kamera_belakang_mp  1500 non-null   int64  \n",
            " 12  px_panjang          1500 non-null   int64  \n",
            " 13  px_lebar            1500 non-null   int64  \n",
            " 14  kapasitas_ram       1500 non-null   int64  \n",
            " 15  panjang_layar       1381 non-null   float64\n",
            " 16  lebar_layar         1500 non-null   int64  \n",
            " 17  waktu_telfon        1500 non-null   int64  \n",
            " 18  three_g             1500 non-null   int64  \n",
            " 19  touch_screen        1500 non-null   int64  \n",
            " 20  wifi                1500 non-null   int64  \n",
            " 21  price_range         1500 non-null   object \n",
            "dtypes: float64(3), int64(17), object(2)\n",
            "memory usage: 257.9+ KB\n"
          ]
        }
      ]
    },
    {
      "cell_type": "code",
      "source": [
        "df_test.info()"
      ],
      "metadata": {
        "colab": {
          "base_uri": "https://localhost:8080/"
        },
        "id": "o8BCN-YJmn-N",
        "outputId": "ac394e4e-211f-4bbb-8096-85109a4a73ef"
      },
      "execution_count": null,
      "outputs": [
        {
          "output_type": "stream",
          "name": "stdout",
          "text": [
            "<class 'pandas.core.frame.DataFrame'>\n",
            "RangeIndex: 500 entries, 0 to 499\n",
            "Data columns (total 21 columns):\n",
            " #   Column              Non-Null Count  Dtype  \n",
            "---  ------              --------------  -----  \n",
            " 0   index               500 non-null    int64  \n",
            " 1   daya_baterai        500 non-null    int64  \n",
            " 2   bluetooth           500 non-null    int64  \n",
            " 3   kecepatan_clock     500 non-null    float64\n",
            " 4   dual_sim            500 non-null    int64  \n",
            " 5   kamera_depan        500 non-null    int64  \n",
            " 6   four_g              500 non-null    object \n",
            " 7   memori_internal     500 non-null    int64  \n",
            " 8   tebal_hp            500 non-null    float64\n",
            " 9   berat_hp            500 non-null    int64  \n",
            " 10  jumlah_prosesor     500 non-null    int64  \n",
            " 11  kamera_belakang_mp  500 non-null    int64  \n",
            " 12  px_panjang          500 non-null    int64  \n",
            " 13  px_lebar            500 non-null    int64  \n",
            " 14  kapasitas_ram       500 non-null    int64  \n",
            " 15  panjang_layar       500 non-null    int64  \n",
            " 16  lebar_layar         500 non-null    int64  \n",
            " 17  waktu_telfon        500 non-null    int64  \n",
            " 18  three_g             500 non-null    int64  \n",
            " 19  touch_screen        500 non-null    int64  \n",
            " 20  wifi                500 non-null    int64  \n",
            "dtypes: float64(2), int64(18), object(1)\n",
            "memory usage: 82.2+ KB\n"
          ]
        }
      ]
    },
    {
      "cell_type": "code",
      "source": [
        "#Menghitung berapa index di setiap kelompok\n",
        "df_train['price_range'].value_counts()"
      ],
      "metadata": {
        "colab": {
          "base_uri": "https://localhost:8080/"
        },
        "id": "vpjYl_x7msTc",
        "outputId": "bd1135bc-6c2f-48a8-c4d0-f539ae8566db"
      },
      "execution_count": null,
      "outputs": [
        {
          "output_type": "execute_result",
          "data": {
            "text/plain": [
              "1000k-<2000k    390\n",
              "0-<1000k        376\n",
              "2000k-3000k     375\n",
              ">3000k          359\n",
              "Name: price_range, dtype: int64"
            ]
          },
          "metadata": {},
          "execution_count": 4
        }
      ]
    },
    {
      "cell_type": "code",
      "source": [
        "#Memeriksa data apakah ada missing value\n",
        "def miss_val(df):\n",
        "    for col in df.columns.tolist():\n",
        "        print('Missing value in {} column : {}'.format(col,df[col].isnull().sum()))\n",
        "    print('\\n')"
      ],
      "metadata": {
        "id": "wYqUi_84mulJ"
      },
      "execution_count": null,
      "outputs": []
    },
    {
      "cell_type": "code",
      "source": [
        "miss_val(df_train)"
      ],
      "metadata": {
        "colab": {
          "base_uri": "https://localhost:8080/"
        },
        "id": "EgV8ShrqmzmG",
        "outputId": "8ee13d61-86c5-437b-c8dc-be4ad86d6699"
      },
      "execution_count": null,
      "outputs": [
        {
          "output_type": "stream",
          "name": "stdout",
          "text": [
            "Missing value in index column : 0\n",
            "Missing value in daya_baterai column : 0\n",
            "Missing value in bluetooth column : 0\n",
            "Missing value in kecepatan_clock column : 50\n",
            "Missing value in dual_sim column : 0\n",
            "Missing value in kamera_depan column : 0\n",
            "Missing value in four_g column : 0\n",
            "Missing value in memori_internal column : 0\n",
            "Missing value in tebal_hp column : 0\n",
            "Missing value in berat_hp column : 0\n",
            "Missing value in jumlah_prosesor column : 0\n",
            "Missing value in kamera_belakang_mp column : 0\n",
            "Missing value in px_panjang column : 0\n",
            "Missing value in px_lebar column : 0\n",
            "Missing value in kapasitas_ram column : 0\n",
            "Missing value in panjang_layar column : 119\n",
            "Missing value in lebar_layar column : 0\n",
            "Missing value in waktu_telfon column : 0\n",
            "Missing value in three_g column : 0\n",
            "Missing value in touch_screen column : 0\n",
            "Missing value in wifi column : 0\n",
            "Missing value in price_range column : 0\n",
            "\n",
            "\n"
          ]
        }
      ]
    },
    {
      "cell_type": "code",
      "source": [
        "miss_val(df_test)"
      ],
      "metadata": {
        "colab": {
          "base_uri": "https://localhost:8080/"
        },
        "id": "Lh-xHpMYm28b",
        "outputId": "a18f2e3e-4759-4306-8950-ee2665c90e21"
      },
      "execution_count": null,
      "outputs": [
        {
          "output_type": "stream",
          "name": "stdout",
          "text": [
            "Missing value in index column : 0\n",
            "Missing value in daya_baterai column : 0\n",
            "Missing value in bluetooth column : 0\n",
            "Missing value in kecepatan_clock column : 0\n",
            "Missing value in dual_sim column : 0\n",
            "Missing value in kamera_depan column : 0\n",
            "Missing value in four_g column : 0\n",
            "Missing value in memori_internal column : 0\n",
            "Missing value in tebal_hp column : 0\n",
            "Missing value in berat_hp column : 0\n",
            "Missing value in jumlah_prosesor column : 0\n",
            "Missing value in kamera_belakang_mp column : 0\n",
            "Missing value in px_panjang column : 0\n",
            "Missing value in px_lebar column : 0\n",
            "Missing value in kapasitas_ram column : 0\n",
            "Missing value in panjang_layar column : 0\n",
            "Missing value in lebar_layar column : 0\n",
            "Missing value in waktu_telfon column : 0\n",
            "Missing value in three_g column : 0\n",
            "Missing value in touch_screen column : 0\n",
            "Missing value in wifi column : 0\n",
            "\n",
            "\n"
          ]
        }
      ]
    },
    {
      "cell_type": "code",
      "source": [
        "#Melakukan replacing/data filling pada missing value\n",
        "df_train['kecepatan_clock'] = df_train['kecepatan_clock'].fillna(df_train['kecepatan_clock'].mean())\n",
        "print(df_train['kecepatan_clock'].isnull().sum())"
      ],
      "metadata": {
        "colab": {
          "base_uri": "https://localhost:8080/"
        },
        "id": "rA76ctWvm5QX",
        "outputId": "16598a40-6f90-48c4-a1cd-c5dc32127ed2"
      },
      "execution_count": null,
      "outputs": [
        {
          "output_type": "stream",
          "name": "stdout",
          "text": [
            "0\n"
          ]
        }
      ]
    },
    {
      "cell_type": "code",
      "source": [
        "df_train['panjang_layar'] = df_train['panjang_layar'].fillna(df_train['panjang_layar'].mean())\n",
        "print(df_train['panjang_layar'].isnull().sum())"
      ],
      "metadata": {
        "colab": {
          "base_uri": "https://localhost:8080/"
        },
        "id": "iP9Nkxeqm_wb",
        "outputId": "17102234-99f7-4f1d-84a5-9717aaba6592"
      },
      "execution_count": null,
      "outputs": [
        {
          "output_type": "stream",
          "name": "stdout",
          "text": [
            "0\n"
          ]
        }
      ]
    },
    {
      "cell_type": "code",
      "source": [
        "#Encoding data menjadi biner\n",
        "four_g_dict = {'Tidak' : 0, 'Ya' : 1}\n",
        "\n",
        "df_train['four_g'] = df_train['four_g'].replace(four_g_dict)\n",
        "\n",
        "df_test['four_g'] = df_test['four_g'].replace(four_g_dict)"
      ],
      "metadata": {
        "id": "jLS6C-WinBxu"
      },
      "execution_count": null,
      "outputs": []
    },
    {
      "cell_type": "code",
      "source": [
        "df_train['price_range'].value_counts()"
      ],
      "metadata": {
        "colab": {
          "base_uri": "https://localhost:8080/"
        },
        "id": "W48nXB2rnB1G",
        "outputId": "3212acec-344c-483a-dbb1-65cb631aa7d6"
      },
      "execution_count": null,
      "outputs": [
        {
          "output_type": "execute_result",
          "data": {
            "text/plain": [
              "1000k-<2000k    390\n",
              "0-<1000k        376\n",
              "2000k-3000k     375\n",
              ">3000k          359\n",
              "Name: price_range, dtype: int64"
            ]
          },
          "metadata": {},
          "execution_count": 11
        }
      ]
    },
    {
      "cell_type": "code",
      "source": [
        "#mengubah price range menjadi kelompok\n",
        "price_range_dict = {'0-<1000k' : 0,\n",
        "                    '1000k-<2000k' : 1,\n",
        "                    '2000k-3000k' : 2,\n",
        "                    '>3000k' : 3\n",
        "                   }\n",
        "                    \n",
        "df_train['price_range'] = df_train['price_range'].replace(price_range_dict)\n",
        "\n",
        "df_train['price_range'].value_counts()"
      ],
      "metadata": {
        "colab": {
          "base_uri": "https://localhost:8080/"
        },
        "id": "fVDe7KNcnB5j",
        "outputId": "536361cc-f8e0-4ddf-da5a-47ab372ca5fd"
      },
      "execution_count": null,
      "outputs": [
        {
          "output_type": "execute_result",
          "data": {
            "text/plain": [
              "1    390\n",
              "0    376\n",
              "2    375\n",
              "3    359\n",
              "Name: price_range, dtype: int64"
            ]
          },
          "metadata": {},
          "execution_count": 12
        }
      ]
    },
    {
      "cell_type": "code",
      "source": [
        "#untuk melihat korelasi\n",
        "import matplotlib.pyplot as plt\n",
        "import seaborn as sns\n",
        "plt.figure(figsize=(16,16))\n",
        "mask = np.triu(np.ones_like(df_train.corr())) \n",
        "sns.heatmap(df_train.corr(),vmin=-1,vmax=1, mask=mask, annot = True, cmap=\"RdYlBu\")\n",
        "plt.title('Heatmap for Correlation')\n",
        "plt.show()"
      ],
      "metadata": {
        "colab": {
          "base_uri": "https://localhost:8080/",
          "height": 1000
        },
        "id": "2Rd-wZeenCGx",
        "outputId": "5b787444-0ade-43a9-e907-a7da22398a74"
      },
      "execution_count": null,
      "outputs": [
        {
          "output_type": "display_data",
          "data": {
            "text/plain": [
              "<Figure size 1600x1600 with 2 Axes>"
            ],
            "image/png": "[encoded data removed]"
          },
          "metadata": {}
        }
      ]
    },
    {
      "cell_type": "code",
      "source": [
        "#Membuat variabel untuk train an validasi\n",
        "x = df_train.drop('price_range', axis = 1).drop('index', axis = 1)\n",
        "y = df_train['price_range']\n",
        "\n",
        "x_test = df_test.drop('index', axis = 1).copy()\n",
        "x_test"
      ],
      "metadata": {
        "colab": {
          "base_uri": "https://localhost:8080/",
          "height": 487
        },
        "id": "nJCLMsjcoNkQ",
        "outputId": "5f776fe6-9608-48c0-c9f5-4a1327164116"
      },
      "execution_count": null,
      "outputs": [
        {
          "output_type": "execute_result",
          "data": {
            "text/plain": [
              "     daya_baterai  bluetooth  kecepatan_clock  dual_sim  kamera_depan  four_g  \\\n",
              "0            1454          1              0.5         1             1       0   \n",
              "1            1092          1              0.5         1            10       0   \n",
              "2            1524          1              1.8         1             0       0   \n",
              "3            1807          1              2.1         0             2       0   \n",
              "4            1086          1              1.7         1             0       1   \n",
              "..            ...        ...              ...       ...           ...     ...   \n",
              "495           805          0              0.8         0             1       0   \n",
              "496          1162          0              1.0         0             0       0   \n",
              "497          1759          1              1.4         0            10       1   \n",
              "498           514          1              1.6         0             7       1   \n",
              "499          1410          1              0.5         1             0       1   \n",
              "\n",
              "     memori_internal  tebal_hp  berat_hp  jumlah_prosesor  kamera_belakang_mp  \\\n",
              "0                 34       0.7        83                4                   3   \n",
              "1                 11       0.5       167                3                  14   \n",
              "2                 10       0.6       174                4                   1   \n",
              "3                 49       0.8       125                1                  10   \n",
              "4                 43       0.2       111                6                   1   \n",
              "..               ...       ...       ...              ...                 ...   \n",
              "495               34       0.6        88                6                   2   \n",
              "496               50       0.5       104                4                  10   \n",
              "497               15       0.4       101                4                  13   \n",
              "498               37       0.1       172                1                   9   \n",
              "499               15       0.3        92                3                   1   \n",
              "\n",
              "     px_panjang  px_lebar  kapasitas_ram  panjang_layar  lebar_layar  \\\n",
              "0           250      1033           3419              7            5   \n",
              "1           468       571            737             14            4   \n",
              "2           154       550           2678             16            5   \n",
              "3           337      1384           1906             17           13   \n",
              "4            56      1150           3285             11            5   \n",
              "..          ...       ...            ...            ...          ...   \n",
              "495        1262      1538           3647             18           11   \n",
              "496         332       866           1404             10            3   \n",
              "497         382      1163           2107             18            5   \n",
              "498         956      1723           3392             12            8   \n",
              "499         192      1311           2304             18            4   \n",
              "\n",
              "     waktu_telfon  three_g  touch_screen  wifi  \n",
              "0               5        1             1     0  \n",
              "1              11        0             1     0  \n",
              "2              13        1             0     1  \n",
              "3              13        0             1     1  \n",
              "4              17        1             1     0  \n",
              "..            ...      ...           ...   ...  \n",
              "495             9        1             0     1  \n",
              "496            15        1             1     1  \n",
              "497            16        1             1     0  \n",
              "498             5        1             1     1  \n",
              "499            18        1             1     0  \n",
              "\n",
              "[500 rows x 20 columns]"
            ],
            "text/html": [
              "\n",
              "  <div id=\"df-017f4cc3-e1c8-4dea-875f-3825cf05fab6\">\n",
              "    <div class=\"colab-df-container\">\n",
              "      <div>\n",
              "<style scoped>\n",
              "    .dataframe tbody tr th:only-of-type {\n",
              "        vertical-align: middle;\n",
              "    }\n",
              "\n",
              "    .dataframe tbody tr th {\n",
              "        vertical-align: top;\n",
              "    }\n",
              "\n",
              "    .dataframe thead th {\n",
              "        text-align: right;\n",
              "    }\n",
              "</style>\n",
              "<table border=\"1\" class=\"dataframe\">\n",
              "  <thead>\n",
              "    <tr style=\"text-align: right;\">\n",
              "      <th></th>\n",
              "      <th>daya_baterai</th>\n",
              "      <th>bluetooth</th>\n",
              "      <th>kecepatan_clock</th>\n",
              "      <th>dual_sim</th>\n",
              "      <th>kamera_depan</th>\n",
              "      <th>four_g</th>\n",
              "      <th>memori_internal</th>\n",
              "      <th>tebal_hp</th>\n",
              "      <th>berat_hp</th>\n",
              "      <th>jumlah_prosesor</th>\n",
              "      <th>kamera_belakang_mp</th>\n",
              "      <th>px_panjang</th>\n",
              "      <th>px_lebar</th>\n",
              "      <th>kapasitas_ram</th>\n",
              "      <th>panjang_layar</th>\n",
              "      <th>lebar_layar</th>\n",
              "      <th>waktu_telfon</th>\n",
              "      <th>three_g</th>\n",
              "      <th>touch_screen</th>\n",
              "      <th>wifi</th>\n",
              "    </tr>\n",
              "  </thead>\n",
              "  <tbody>\n",
              "    <tr>\n",
              "      <th>0</th>\n",
              "      <td>1454</td>\n",
              "      <td>1</td>\n",
              "      <td>0.5</td>\n",
              "      <td>1</td>\n",
              "      <td>1</td>\n",
              "      <td>0</td>\n",
              "      <td>34</td>\n",
              "      <td>0.7</td>\n",
              "      <td>83</td>\n",
              "      <td>4</td>\n",
              "      <td>3</td>\n",
              "      <td>250</td>\n",
              "      <td>1033</td>\n",
              "      <td>3419</td>\n",
              "      <td>7</td>\n",
              "      <td>5</td>\n",
              "      <td>5</td>\n",
              "      <td>1</td>\n",
              "      <td>1</td>\n",
              "      <td>0</td>\n",
              "    </tr>\n",
              "    <tr>\n",
              "      <th>1</th>\n",
              "      <td>1092</td>\n",
              "      <td>1</td>\n",
              "      <td>0.5</td>\n",
              "      <td>1</td>\n",
              "      <td>10</td>\n",
              "      <td>0</td>\n",
              "      <td>11</td>\n",
              "      <td>0.5</td>\n",
              "      <td>167</td>\n",
              "      <td>3</td>\n",
              "      <td>14</td>\n",
              "      <td>468</td>\n",
              "      <td>571</td>\n",
              "      <td>737</td>\n",
              "      <td>14</td>\n",
              "      <td>4</td>\n",
              "      <td>11</td>\n",
              "      <td>0</td>\n",
              "      <td>1</td>\n",
              "      <td>0</td>\n",
              "    </tr>\n",
              "    <tr>\n",
              "      <th>2</th>\n",
              "      <td>1524</td>\n",
              "      <td>1</td>\n",
              "      <td>1.8</td>\n",
              "      <td>1</td>\n",
              "      <td>0</td>\n",
              "      <td>0</td>\n",
              "      <td>10</td>\n",
              "      <td>0.6</td>\n",
              "      <td>174</td>\n",
              "      <td>4</td>\n",
              "      <td>1</td>\n",
              "      <td>154</td>\n",
              "      <td>550</td>\n",
              "      <td>2678</td>\n",
              "      <td>16</td>\n",
              "      <td>5</td>\n",
              "      <td>13</td>\n",
              "      <td>1</td>\n",
              "      <td>0</td>\n",
              "      <td>1</td>\n",
              "    </tr>\n",
              "    <tr>\n",
              "      <th>3</th>\n",
              "      <td>1807</td>\n",
              "      <td>1</td>\n",
              "      <td>2.1</td>\n",
              "      <td>0</td>\n",
              "      <td>2</td>\n",
              "      <td>0</td>\n",
              "      <td>49</td>\n",
              "      <td>0.8</td>\n",
              "      <td>125</td>\n",
              "      <td>1</td>\n",
              "      <td>10</td>\n",
              "      <td>337</td>\n",
              "      <td>1384</td>\n",
              "      <td>1906</td>\n",
              "      <td>17</td>\n",
              "      <td>13</td>\n",
              "      <td>13</td>\n",
              "      <td>0</td>\n",
              "      <td>1</td>\n",
              "      <td>1</td>\n",
              "    </tr>\n",
              "    <tr>\n",
              "      <th>4</th>\n",
              "      <td>1086</td>\n",
              "      <td>1</td>\n",
              "      <td>1.7</td>\n",
              "      <td>1</td>\n",
              "      <td>0</td>\n",
              "      <td>1</td>\n",
              "      <td>43</td>\n",
              "      <td>0.2</td>\n",
              "      <td>111</td>\n",
              "      <td>6</td>\n",
              "      <td>1</td>\n",
              "      <td>56</td>\n",
              "      <td>1150</td>\n",
              "      <td>3285</td>\n",
              "      <td>11</td>\n",
              "      <td>5</td>\n",
              "      <td>17</td>\n",
              "      <td>1</td>\n",
              "      <td>1</td>\n",
              "      <td>0</td>\n",
              "    </tr>\n",
              "    <tr>\n",
              "      <th>...</th>\n",
              "      <td>...</td>\n",
              "      <td>...</td>\n",
              "      <td>...</td>\n",
              "      <td>...</td>\n",
              "      <td>...</td>\n",
              "      <td>...</td>\n",
              "      <td>...</td>\n",
              "      <td>...</td>\n",
              "      <td>...</td>\n",
              "      <td>...</td>\n",
              "      <td>...</td>\n",
              "      <td>...</td>\n",
              "      <td>...</td>\n",
              "      <td>...</td>\n",
              "      <td>...</td>\n",
              "      <td>...</td>\n",
              "      <td>...</td>\n",
              "      <td>...</td>\n",
              "      <td>...</td>\n",
              "      <td>...</td>\n",
              "    </tr>\n",
              "    <tr>\n",
              "      <th>495</th>\n",
              "      <td>805</td>\n",
              "      <td>0</td>\n",
              "      <td>0.8</td>\n",
              "      <td>0</td>\n",
              "      <td>1</td>\n",
              "      <td>0</td>\n",
              "      <td>34</td>\n",
              "      <td>0.6</td>\n",
              "      <td>88</td>\n",
              "      <td>6</td>\n",
              "      <td>2</td>\n",
              "      <td>1262</td>\n",
              "      <td>1538</td>\n",
              "      <td>3647</td>\n",
              "      <td>18</td>\n",
              "      <td>11</td>\n",
              "      <td>9</td>\n",
              "      <td>1</td>\n",
              "      <td>0</td>\n",
              "      <td>1</td>\n",
              "    </tr>\n",
              "    <tr>\n",
              "      <th>496</th>\n",
              "      <td>1162</td>\n",
              "      <td>0</td>\n",
              "      <td>1.0</td>\n",
              "      <td>0</td>\n",
              "      <td>0</td>\n",
              "      <td>0</td>\n",
              "      <td>50</td>\n",
              "      <td>0.5</td>\n",
              "      <td>104</td>\n",
              "      <td>4</td>\n",
              "      <td>10</td>\n",
              "      <td>332</td>\n",
              "      <td>866</td>\n",
              "      <td>1404</td>\n",
              "      <td>10</td>\n",
              "      <td>3</td>\n",
              "      <td>15</td>\n",
              "      <td>1</td>\n",
              "      <td>1</td>\n",
              "      <td>1</td>\n",
              "    </tr>\n",
              "    <tr>\n",
              "      <th>497</th>\n",
              "      <td>1759</td>\n",
              "      <td>1</td>\n",
              "      <td>1.4</td>\n",
              "      <td>0</td>\n",
              "      <td>10</td>\n",
              "      <td>1</td>\n",
              "      <td>15</td>\n",
              "      <td>0.4</td>\n",
              "      <td>101</td>\n",
              "      <td>4</td>\n",
              "      <td>13</td>\n",
              "      <td>382</td>\n",
              "      <td>1163</td>\n",
              "      <td>2107</td>\n",
              "      <td>18</td>\n",
              "      <td>5</td>\n",
              "      <td>16</td>\n",
              "      <td>1</td>\n",
              "      <td>1</td>\n",
              "      <td>0</td>\n",
              "    </tr>\n",
              "    <tr>\n",
              "      <th>498</th>\n",
              "      <td>514</td>\n",
              "      <td>1</td>\n",
              "      <td>1.6</td>\n",
              "      <td>0</td>\n",
              "      <td>7</td>\n",
              "      <td>1</td>\n",
              "      <td>37</td>\n",
              "      <td>0.1</td>\n",
              "      <td>172</td>\n",
              "      <td>1</td>\n",
              "      <td>9</td>\n",
              "      <td>956</td>\n",
              "      <td>1723</td>\n",
              "      <td>3392</td>\n",
              "      <td>12</td>\n",
              "      <td>8</td>\n",
              "      <td>5</td>\n",
              "      <td>1</td>\n",
              "      <td>1</td>\n",
              "      <td>1</td>\n",
              "    </tr>\n",
              "    <tr>\n",
              "      <th>499</th>\n",
              "      <td>1410</td>\n",
              "      <td>1</td>\n",
              "      <td>0.5</td>\n",
              "      <td>1</td>\n",
              "      <td>0</td>\n",
              "      <td>1</td>\n",
              "      <td>15</td>\n",
              "      <td>0.3</td>\n",
              "      <td>92</td>\n",
              "      <td>3</td>\n",
              "      <td>1</td>\n",
              "      <td>192</td>\n",
              "      <td>1311</td>\n",
              "      <td>2304</td>\n",
              "      <td>18</td>\n",
              "      <td>4</td>\n",
              "      <td>18</td>\n",
              "      <td>1</td>\n",
              "      <td>1</td>\n",
              "      <td>0</td>\n",
              "    </tr>\n",
              "  </tbody>\n",
              "</table>\n",
              "<p>500 rows × 20 columns</p>\n",
              "</div>\n",
              "      <button class=\"colab-df-convert\" onclick=\"convertToInteractive('df-017f4cc3-e1c8-4dea-875f-3825cf05fab6')\"\n",
              "              title=\"Convert this dataframe to an interactive table.\"\n",
              "              style=\"display:none;\">\n",
              "        \n",
              "  <svg xmlns=\"http://www.w3.org/2000/svg\" height=\"24px\"viewBox=\"0 0 24 24\"\n",
              "       width=\"24px\">\n",
              "    <path d=\"M0 0h24v24H0V0z\" fill=\"none\"/>\n",
              "    <path d=\"M18.56 5.44l.94 2.06.94-2.06 2.06-.94-2.06-.94-.94-2.06-.94 2.06-2.06.94zm-11 1L8.5 8.5l.94-2.06 2.06-.94-2.06-.94L8.5 2.5l-.94 2.06-2.06.94zm10 10l.94 2.06.94-2.06 2.06-.94-2.06-.94-.94-2.06-.94 2.06-2.06.94z\"/><path d=\"M17.41 7.96l-1.37-1.37c-.4-.4-.92-.59-1.43-.59-.52 0-1.04.2-1.43.59L10.3 9.45l-7.72 7.72c-.78.78-.78 2.05 0 2.83L4 21.41c.39.39.9.59 1.41.59.51 0 1.02-.2 1.41-.59l7.78-7.78 2.81-2.81c.8-.78.8-2.07 0-2.86zM5.41 20L4 18.59l7.72-7.72 1.47 1.35L5.41 20z\"/>\n",
              "  </svg>\n",
              "      </button>\n",
              "      \n",
              "  <style>\n",
              "    .colab-df-container {\n",
              "      display:flex;\n",
              "      flex-wrap:wrap;\n",
              "      gap: 12px;\n",
              "    }\n",
              "\n",
              "    .colab-df-convert {\n",
              "      background-color: #E8F0FE;\n",
              "      border: none;\n",
              "      border-radius: 50%;\n",
              "      cursor: pointer;\n",
              "      display: none;\n",
              "      fill: #1967D2;\n",
              "      height: 32px;\n",
              "      padding: 0 0 0 0;\n",
              "      width: 32px;\n",
              "    }\n",
              "\n",
              "    .colab-df-convert:hover {\n",
              "      background-color: #E2EBFA;\n",
              "      box-shadow: 0px 1px 2px rgba(60, 64, 67, 0.3), 0px 1px 3px 1px rgba(60, 64, 67, 0.15);\n",
              "      fill: #174EA6;\n",
              "    }\n",
              "\n",
              "    [theme=dark] .colab-df-convert {\n",
              "      background-color: #3B4455;\n",
              "      fill: #D2E3FC;\n",
              "    }\n",
              "\n",
              "    [theme=dark] .colab-df-convert:hover {\n",
              "      background-color: #434B5C;\n",
              "      box-shadow: 0px 1px 3px 1px rgba(0, 0, 0, 0.15);\n",
              "      filter: drop-shadow(0px 1px 2px rgba(0, 0, 0, 0.3));\n",
              "      fill: #FFFFFF;\n",
              "    }\n",
              "  </style>\n",
              "\n",
              "      <script>\n",
              "        const buttonEl =\n",
              "          document.querySelector('#df-017f4cc3-e1c8-4dea-875f-3825cf05fab6 button.colab-df-convert');\n",
              "        buttonEl.style.display =\n",
              "          google.colab.kernel.accessAllowed ? 'block' : 'none';\n",
              "\n",
              "        async function convertToInteractive(key) {\n",
              "          const element = document.querySelector('#df-017f4cc3-e1c8-4dea-875f-3825cf05fab6');\n",
              "          const dataTable =\n",
              "            await google.colab.kernel.invokeFunction('convertToInteractive',\n",
              "                                                     [key], {});\n",
              "          if (!dataTable) return;\n",
              "\n",
              "          const docLinkHtml = 'Like what you see? Visit the ' +\n",
              "            '<a target=\"_blank\" href=https://colab.research.google.com/notebooks/data_table.ipynb>data table notebook</a>'\n",
              "            + ' to learn more about interactive tables.';\n",
              "          element.innerHTML = '';\n",
              "          dataTable['output_type'] = 'display_data';\n",
              "          await google.colab.output.renderOutput(dataTable, element);\n",
              "          const docLink = document.createElement('div');\n",
              "          docLink.innerHTML = docLinkHtml;\n",
              "          element.appendChild(docLink);\n",
              "        }\n",
              "      </script>\n",
              "    </div>\n",
              "  </div>\n",
              "  "
            ]
          },
          "metadata": {},
          "execution_count": 16
        }
      ]
    },
    {
      "cell_type": "code",
      "source": [
        "from sklearn.model_selection import train_test_split\n",
        "x_train, x_valid, y_train, y_valid = train_test_split(x, y, test_size = 0.2, random_state = 1, stratify = y)"
      ],
      "metadata": {
        "id": "gIvKimEdoNt4"
      },
      "execution_count": null,
      "outputs": []
    },
    {
      "cell_type": "code",
      "source": [
        "print(x_train.shape)\n",
        "print(y_train.shape)\n",
        "print(x_valid.shape)\n",
        "print(y_valid.shape)"
      ],
      "metadata": {
        "colab": {
          "base_uri": "https://localhost:8080/"
        },
        "id": "eKThW1PjoN0Y",
        "outputId": "3e5cb5b7-8a35-4a0a-e578-6ef22ce71418"
      },
      "execution_count": null,
      "outputs": [
        {
          "output_type": "stream",
          "name": "stdout",
          "text": [
            "(1200, 20)\n",
            "(1200,)\n",
            "(300, 20)\n",
            "(300,)\n"
          ]
        }
      ]
    },
    {
      "cell_type": "code",
      "source": [
        "#Algoritma Random Forest Classifier & fungsi GridSearchCV\n",
        "from sklearn.metrics import make_scorer, f1_score, confusion_matrix, accuracy_score\n",
        "from sklearn.ensemble import RandomForestClassifier\n",
        "from sklearn.model_selection import GridSearchCV\n",
        "\n",
        "rfc = RandomForestClassifier()"
      ],
      "metadata": {
        "id": "ichJql0NoN5L"
      },
      "execution_count": null,
      "outputs": []
    },
    {
      "cell_type": "code",
      "source": [
        "#Mmebuat parameter untuk cross validation\n",
        "params = {'n_estimators' : np.arange(100,200,10),\n",
        "          'criterion' : ['gini','entropy'],\n",
        "          'max_features' : ['log2']          \n",
        "         }"
      ],
      "metadata": {
        "id": "ruby2EQzoOAo"
      },
      "execution_count": null,
      "outputs": []
    },
    {
      "cell_type": "code",
      "source": [
        "scoring = make_scorer(f1_score, average = ('micro'))\n",
        "gscv_rfc = GridSearchCV(rfc, params, scoring = scoring , cv= 10)\n",
        "gscv_rfc.fit(x_train,y_train)"
      ],
      "metadata": {
        "colab": {
          "base_uri": "https://localhost:8080/",
          "height": 255
        },
        "id": "e3jIYljPoOIW",
        "outputId": "9e83d9f8-7071-433f-af8d-881f8fc9a682"
      },
      "execution_count": null,
      "outputs": [
        {
          "output_type": "execute_result",
          "data": {
            "text/plain": [
              "GridSearchCV(cv=10, estimator=RandomForestClassifier(),\n",
              "             param_grid={'criterion': ['gini', 'entropy'],\n",
              "                         'max_features': ['log2'],\n",
              "                         'n_estimators': array([100, 110, 120, 130, 140, 150, 160, 170, 180, 190])},\n",
              "             scoring=make_scorer(f1_score, average=micro))"
            ],
            "text/html": [
              "<style>#sk-container-id-1 {color: black;background-color: white;}#sk-container-id-1 pre{padding: 0;}#sk-container-id-1 div.sk-toggleable {background-color: white;}#sk-container-id-1 label.sk-toggleable__label {cursor: pointer;display: block;width: 100%;margin-bottom: 0;padding: 0.3em;box-sizing: border-box;text-align: center;}#sk-container-id-1 label.sk-toggleable__label-arrow:before {content: \"▸\";float: left;margin-right: 0.25em;color: #696969;}#sk-container-id-1 label.sk-toggleable__label-arrow:hover:before {color: black;}#sk-container-id-1 div.sk-estimator:hover label.sk-toggleable__label-arrow:before {color: black;}#sk-container-id-1 div.sk-toggleable__content {max-height: 0;max-width: 0;overflow: hidden;text-align: left;background-color: #f0f8ff;}#sk-container-id-1 div.sk-toggleable__content pre {margin: 0.2em;color: black;border-radius: 0.25em;background-color: #f0f8ff;}#sk-container-id-1 input.sk-toggleable__control:checked~div.sk-toggleable__content {max-height: 200px;max-width: 100%;overflow: auto;}#sk-container-id-1 input.sk-toggleable__control:checked~label.sk-toggleable__label-arrow:before {content: \"▾\";}#sk-container-id-1 div.sk-estimator input.sk-toggleable__control:checked~label.sk-toggleable__label {background-color: #d4ebff;}#sk-container-id-1 div.sk-label input.sk-toggleable__control:checked~label.sk-toggleable__label {background-color: #d4ebff;}#sk-container-id-1 input.sk-hidden--visually {border: 0;clip: rect(1px 1px 1px 1px);clip: rect(1px, 1px, 1px, 1px);height: 1px;margin: -1px;overflow: hidden;padding: 0;position: absolute;width: 1px;}#sk-container-id-1 div.sk-estimator {font-family: monospace;background-color: #f0f8ff;border: 1px dotted black;border-radius: 0.25em;box-sizing: border-box;margin-bottom: 0.5em;}#sk-container-id-1 div.sk-estimator:hover {background-color: #d4ebff;}#sk-container-id-1 div.sk-parallel-item::after {content: \"\";width: 100%;border-bottom: 1px solid gray;flex-grow: 1;}#sk-container-id-1 div.sk-label:hover label.sk-toggleable__label {background-color: #d4ebff;}#sk-container-id-1 div.sk-serial::before {content: \"\";position: absolute;border-left: 1px solid gray;box-sizing: border-box;top: 0;bottom: 0;left: 50%;z-index: 0;}#sk-container-id-1 div.sk-serial {display: flex;flex-direction: column;align-items: center;background-color: white;padding-right: 0.2em;padding-left: 0.2em;position: relative;}#sk-container-id-1 div.sk-item {position: relative;z-index: 1;}#sk-container-id-1 div.sk-parallel {display: flex;align-items: stretch;justify-content: center;background-color: white;position: relative;}#sk-container-id-1 div.sk-item::before, #sk-container-id-1 div.sk-parallel-item::before {content: \"\";position: absolute;border-left: 1px solid gray;box-sizing: border-box;top: 0;bottom: 0;left: 50%;z-index: -1;}#sk-container-id-1 div.sk-parallel-item {display: flex;flex-direction: column;z-index: 1;position: relative;background-color: white;}#sk-container-id-1 div.sk-parallel-item:first-child::after {align-self: flex-end;width: 50%;}#sk-container-id-1 div.sk-parallel-item:last-child::after {align-self: flex-start;width: 50%;}#sk-container-id-1 div.sk-parallel-item:only-child::after {width: 0;}#sk-container-id-1 div.sk-dashed-wrapped {border: 1px dashed gray;margin: 0 0.4em 0.5em 0.4em;box-sizing: border-box;padding-bottom: 0.4em;background-color: white;}#sk-container-id-1 div.sk-label label {font-family: monospace;font-weight: bold;display: inline-block;line-height: 1.2em;}#sk-container-id-1 div.sk-label-container {text-align: center;}#sk-container-id-1 div.sk-container {/* jupyter's `normalize.less` sets `[hidden] { display: none; }` but bootstrap.min.css set `[hidden] { display: none !important; }` so we also need the `!important` here to be able to override the default hidden behavior on the sphinx rendered scikit-learn.org. See: https://github.com/scikit-learn/scikit-learn/issues/21755 */display: inline-block !important;position: relative;}#sk-container-id-1 div.sk-text-repr-fallback {display: none;}</style><div id=\"sk-container-id-1\" class=\"sk-top-container\"><div class=\"sk-text-repr-fallback\"><pre>GridSearchCV(cv=10, estimator=RandomForestClassifier(),\n",
              "             param_grid={&#x27;criterion&#x27;: [&#x27;gini&#x27;, &#x27;entropy&#x27;],\n",
              "                         &#x27;max_features&#x27;: [&#x27;log2&#x27;],\n",
              "                         &#x27;n_estimators&#x27;: array([100, 110, 120, 130, 140, 150, 160, 170, 180, 190])},\n",
              "             scoring=make_scorer(f1_score, average=micro))</pre><b>In a Jupyter environment, please rerun this cell to show the HTML representation or trust the notebook. <br />On GitHub, the HTML representation is unable to render, please try loading this page with nbviewer.org.</b></div><div class=\"sk-container\" hidden><div class=\"sk-item sk-dashed-wrapped\"><div class=\"sk-label-container\"><div class=\"sk-label sk-toggleable\"><input class=\"sk-toggleable__control sk-hidden--visually\" id=\"sk-estimator-id-1\" type=\"checkbox\" ><label for=\"sk-estimator-id-1\" class=\"sk-toggleable__label sk-toggleable__label-arrow\">GridSearchCV</label><div class=\"sk-toggleable__content\"><pre>GridSearchCV(cv=10, estimator=RandomForestClassifier(),\n",
              "             param_grid={&#x27;criterion&#x27;: [&#x27;gini&#x27;, &#x27;entropy&#x27;],\n",
              "                         &#x27;max_features&#x27;: [&#x27;log2&#x27;],\n",
              "                         &#x27;n_estimators&#x27;: array([100, 110, 120, 130, 140, 150, 160, 170, 180, 190])},\n",
              "             scoring=make_scorer(f1_score, average=micro))</pre></div></div></div><div class=\"sk-parallel\"><div class=\"sk-parallel-item\"><div class=\"sk-item\"><div class=\"sk-label-container\"><div class=\"sk-label sk-toggleable\"><input class=\"sk-toggleable__control sk-hidden--visually\" id=\"sk-estimator-id-2\" type=\"checkbox\" ><label for=\"sk-estimator-id-2\" class=\"sk-toggleable__label sk-toggleable__label-arrow\">estimator: RandomForestClassifier</label><div class=\"sk-toggleable__content\"><pre>RandomForestClassifier()</pre></div></div></div><div class=\"sk-serial\"><div class=\"sk-item\"><div class=\"sk-estimator sk-toggleable\"><input class=\"sk-toggleable__control sk-hidden--visually\" id=\"sk-estimator-id-3\" type=\"checkbox\" ><label for=\"sk-estimator-id-3\" class=\"sk-toggleable__label sk-toggleable__label-arrow\">RandomForestClassifier</label><div class=\"sk-toggleable__content\"><pre>RandomForestClassifier()</pre></div></div></div></div></div></div></div></div></div></div>"
            ]
          },
          "metadata": {},
          "execution_count": 40
        }
      ]
    },
    {
      "cell_type": "code",
      "source": [
        "#Mengambil hyperarameter\n",
        "print(gscv_rfc.best_params_)\n",
        "print(gscv_rfc.best_score_)"
      ],
      "metadata": {
        "colab": {
          "base_uri": "https://localhost:8080/"
        },
        "id": "1GlC6c3QrSes",
        "outputId": "e8a5998f-bcfa-4883-a9eb-63a218ddee9e"
      },
      "execution_count": null,
      "outputs": [
        {
          "output_type": "stream",
          "name": "stdout",
          "text": [
            "{'criterion': 'entropy', 'max_features': 'log2', 'n_estimators': 180}\n",
            "0.8724999999999999\n"
          ]
        }
      ]
    },
    {
      "cell_type": "code",
      "source": [
        "#Mmebuat model dengan tuning hyperparameter\n",
        "model_rfc = RandomForestClassifier(n_estimators = 180, criterion = 'entropy', max_features = 'log2')\n",
        "train_rfc = model_rfc.fit(x_train, y_train)\n",
        "\n",
        "y_pred_rfc =  model_rfc.predict(x_valid)"
      ],
      "metadata": {
        "id": "Sm_74q4crSiZ"
      },
      "execution_count": null,
      "outputs": []
    },
    {
      "cell_type": "code",
      "source": [
        "f1_score_rfc_micro = f1_score(y_valid, y_pred_rfc, average = 'micro')\n",
        "print(f1_score_rfc_micro)\n",
        "\n",
        "f1_score_rfc_macro = f1_score(y_valid, y_pred_rfc, average = 'macro')\n",
        "print(f1_score_rfc_macro)\n",
        "\n",
        "f1_score_rfc_weighted = f1_score(y_valid, y_pred_rfc, average = 'weighted')\n",
        "print(f1_score_rfc_weighted)\n",
        "\n",
        "acc_rfc = accuracy_score(y_valid, y_pred_rfc)\n",
        "print(acc_rfc)\n",
        "\n",
        "cf_rfc = confusion_matrix(y_valid, y_pred_rfc)\n",
        "print(cf_rfc)"
      ],
      "metadata": {
        "colab": {
          "base_uri": "https://localhost:8080/"
        },
        "id": "sFJVbFpUrS4P",
        "outputId": "36705a34-dbd1-48be-cb56-289f9a4b3b7e"
      },
      "execution_count": null,
      "outputs": [
        {
          "output_type": "stream",
          "name": "stdout",
          "text": [
            "0.91\n",
            "0.9109794037124476\n",
            "0.910236081993516\n",
            "0.91\n",
            "[[66  9  0  0]\n",
            " [ 2 72  4  0]\n",
            " [ 0  5 65  5]\n",
            " [ 0  0  2 70]]\n"
          ]
        }
      ]
    },
    {
      "cell_type": "code",
      "source": [
        "#Algoritma KNN Classifier \n",
        "from sklearn.neighbors import KNeighborsClassifier\n",
        "\n",
        "knn = KNeighborsClassifier()"
      ],
      "metadata": {
        "id": "IhCqq7ikrS99"
      },
      "execution_count": null,
      "outputs": []
    },
    {
      "cell_type": "code",
      "source": [
        "params_knn = {'n_neighbors' : np.arange(90, 200,10), \n",
        "          'weights' : ['uniform', 'distance'], \n",
        "          'algorithm' : ['auto', 'ball_tree', 'kd_tree', 'brute'],  \n",
        "          }"
      ],
      "metadata": {
        "id": "toVt3D-drTEw"
      },
      "execution_count": null,
      "outputs": []
    },
    {
      "cell_type": "code",
      "source": [
        "gscv_knn = GridSearchCV(knn, params_knn, cv = 10)\n",
        "gscv_knn.fit(x_train, y_train)"
      ],
      "metadata": {
        "colab": {
          "base_uri": "https://localhost:8080/",
          "height": 238
        },
        "id": "Da3koEO4rTLd",
        "outputId": "e0d4ace0-affe-4380-93a5-1021465acab0"
      },
      "execution_count": null,
      "outputs": [
        {
          "output_type": "execute_result",
          "data": {
            "text/plain": [
              "GridSearchCV(cv=10, estimator=KNeighborsClassifier(),\n",
              "             param_grid={'algorithm': ['auto', 'ball_tree', 'kd_tree', 'brute'],\n",
              "                         'n_neighbors': array([ 90, 100, 110, 120, 130, 140, 150, 160, 170, 180, 190]),\n",
              "                         'weights': ['uniform', 'distance']})"
            ],
            "text/html": [
              "<style>#sk-container-id-2 {color: black;background-color: white;}#sk-container-id-2 pre{padding: 0;}#sk-container-id-2 div.sk-toggleable {background-color: white;}#sk-container-id-2 label.sk-toggleable__label {cursor: pointer;display: block;width: 100%;margin-bottom: 0;padding: 0.3em;box-sizing: border-box;text-align: center;}#sk-container-id-2 label.sk-toggleable__label-arrow:before {content: \"▸\";float: left;margin-right: 0.25em;color: #696969;}#sk-container-id-2 label.sk-toggleable__label-arrow:hover:before {color: black;}#sk-container-id-2 div.sk-estimator:hover label.sk-toggleable__label-arrow:before {color: black;}#sk-container-id-2 div.sk-toggleable__content {max-height: 0;max-width: 0;overflow: hidden;text-align: left;background-color: #f0f8ff;}#sk-container-id-2 div.sk-toggleable__content pre {margin: 0.2em;color: black;border-radius: 0.25em;background-color: #f0f8ff;}#sk-container-id-2 input.sk-toggleable__control:checked~div.sk-toggleable__content {max-height: 200px;max-width: 100%;overflow: auto;}#sk-container-id-2 input.sk-toggleable__control:checked~label.sk-toggleable__label-arrow:before {content: \"▾\";}#sk-container-id-2 div.sk-estimator input.sk-toggleable__control:checked~label.sk-toggleable__label {background-color: #d4ebff;}#sk-container-id-2 div.sk-label input.sk-toggleable__control:checked~label.sk-toggleable__label {background-color: #d4ebff;}#sk-container-id-2 input.sk-hidden--visually {border: 0;clip: rect(1px 1px 1px 1px);clip: rect(1px, 1px, 1px, 1px);height: 1px;margin: -1px;overflow: hidden;padding: 0;position: absolute;width: 1px;}#sk-container-id-2 div.sk-estimator {font-family: monospace;background-color: #f0f8ff;border: 1px dotted black;border-radius: 0.25em;box-sizing: border-box;margin-bottom: 0.5em;}#sk-container-id-2 div.sk-estimator:hover {background-color: #d4ebff;}#sk-container-id-2 div.sk-parallel-item::after {content: \"\";width: 100%;border-bottom: 1px solid gray;flex-grow: 1;}#sk-container-id-2 div.sk-label:hover label.sk-toggleable__label {background-color: #d4ebff;}#sk-container-id-2 div.sk-serial::before {content: \"\";position: absolute;border-left: 1px solid gray;box-sizing: border-box;top: 0;bottom: 0;left: 50%;z-index: 0;}#sk-container-id-2 div.sk-serial {display: flex;flex-direction: column;align-items: center;background-color: white;padding-right: 0.2em;padding-left: 0.2em;position: relative;}#sk-container-id-2 div.sk-item {position: relative;z-index: 1;}#sk-container-id-2 div.sk-parallel {display: flex;align-items: stretch;justify-content: center;background-color: white;position: relative;}#sk-container-id-2 div.sk-item::before, #sk-container-id-2 div.sk-parallel-item::before {content: \"\";position: absolute;border-left: 1px solid gray;box-sizing: border-box;top: 0;bottom: 0;left: 50%;z-index: -1;}#sk-container-id-2 div.sk-parallel-item {display: flex;flex-direction: column;z-index: 1;position: relative;background-color: white;}#sk-container-id-2 div.sk-parallel-item:first-child::after {align-self: flex-end;width: 50%;}#sk-container-id-2 div.sk-parallel-item:last-child::after {align-self: flex-start;width: 50%;}#sk-container-id-2 div.sk-parallel-item:only-child::after {width: 0;}#sk-container-id-2 div.sk-dashed-wrapped {border: 1px dashed gray;margin: 0 0.4em 0.5em 0.4em;box-sizing: border-box;padding-bottom: 0.4em;background-color: white;}#sk-container-id-2 div.sk-label label {font-family: monospace;font-weight: bold;display: inline-block;line-height: 1.2em;}#sk-container-id-2 div.sk-label-container {text-align: center;}#sk-container-id-2 div.sk-container {/* jupyter's `normalize.less` sets `[hidden] { display: none; }` but bootstrap.min.css set `[hidden] { display: none !important; }` so we also need the `!important` here to be able to override the default hidden behavior on the sphinx rendered scikit-learn.org. See: https://github.com/scikit-learn/scikit-learn/issues/21755 */display: inline-block !important;position: relative;}#sk-container-id-2 div.sk-text-repr-fallback {display: none;}</style><div id=\"sk-container-id-2\" class=\"sk-top-container\"><div class=\"sk-text-repr-fallback\"><pre>GridSearchCV(cv=10, estimator=KNeighborsClassifier(),\n",
              "             param_grid={&#x27;algorithm&#x27;: [&#x27;auto&#x27;, &#x27;ball_tree&#x27;, &#x27;kd_tree&#x27;, &#x27;brute&#x27;],\n",
              "                         &#x27;n_neighbors&#x27;: array([ 90, 100, 110, 120, 130, 140, 150, 160, 170, 180, 190]),\n",
              "                         &#x27;weights&#x27;: [&#x27;uniform&#x27;, &#x27;distance&#x27;]})</pre><b>In a Jupyter environment, please rerun this cell to show the HTML representation or trust the notebook. <br />On GitHub, the HTML representation is unable to render, please try loading this page with nbviewer.org.</b></div><div class=\"sk-container\" hidden><div class=\"sk-item sk-dashed-wrapped\"><div class=\"sk-label-container\"><div class=\"sk-label sk-toggleable\"><input class=\"sk-toggleable__control sk-hidden--visually\" id=\"sk-estimator-id-4\" type=\"checkbox\" ><label for=\"sk-estimator-id-4\" class=\"sk-toggleable__label sk-toggleable__label-arrow\">GridSearchCV</label><div class=\"sk-toggleable__content\"><pre>GridSearchCV(cv=10, estimator=KNeighborsClassifier(),\n",
              "             param_grid={&#x27;algorithm&#x27;: [&#x27;auto&#x27;, &#x27;ball_tree&#x27;, &#x27;kd_tree&#x27;, &#x27;brute&#x27;],\n",
              "                         &#x27;n_neighbors&#x27;: array([ 90, 100, 110, 120, 130, 140, 150, 160, 170, 180, 190]),\n",
              "                         &#x27;weights&#x27;: [&#x27;uniform&#x27;, &#x27;distance&#x27;]})</pre></div></div></div><div class=\"sk-parallel\"><div class=\"sk-parallel-item\"><div class=\"sk-item\"><div class=\"sk-label-container\"><div class=\"sk-label sk-toggleable\"><input class=\"sk-toggleable__control sk-hidden--visually\" id=\"sk-estimator-id-5\" type=\"checkbox\" ><label for=\"sk-estimator-id-5\" class=\"sk-toggleable__label sk-toggleable__label-arrow\">estimator: KNeighborsClassifier</label><div class=\"sk-toggleable__content\"><pre>KNeighborsClassifier()</pre></div></div></div><div class=\"sk-serial\"><div class=\"sk-item\"><div class=\"sk-estimator sk-toggleable\"><input class=\"sk-toggleable__control sk-hidden--visually\" id=\"sk-estimator-id-6\" type=\"checkbox\" ><label for=\"sk-estimator-id-6\" class=\"sk-toggleable__label sk-toggleable__label-arrow\">KNeighborsClassifier</label><div class=\"sk-toggleable__content\"><pre>KNeighborsClassifier()</pre></div></div></div></div></div></div></div></div></div></div>"
            ]
          },
          "metadata": {},
          "execution_count": 46
        }
      ]
    },
    {
      "cell_type": "code",
      "source": [
        "print(gscv_knn.best_params_)\n",
        "print(gscv_knn.best_score_)"
      ],
      "metadata": {
        "colab": {
          "base_uri": "https://localhost:8080/"
        },
        "id": "WIkjUN33tTSL",
        "outputId": "0b81bdc0-f2d7-4f9e-90b3-092fc4c96788"
      },
      "execution_count": null,
      "outputs": [
        {
          "output_type": "stream",
          "name": "stdout",
          "text": [
            "{'algorithm': 'auto', 'n_neighbors': 110, 'weights': 'distance'}\n",
            "0.9116666666666667\n"
          ]
        }
      ]
    },
    {
      "cell_type": "code",
      "source": [
        "model_knn = KNeighborsClassifier(algorithm =  'auto', n_neighbors = 90, weights = 'distance')\n",
        "model_knn.fit(x_train, y_train)\n",
        "\n",
        "KNeighborsClassifier(n_neighbors=90, weights='distance')\n",
        "\n",
        "y_pred_knn =  model_knn.predict(x_valid)"
      ],
      "metadata": {
        "id": "UJ7BqoCUtaBS"
      },
      "execution_count": null,
      "outputs": []
    },
    {
      "cell_type": "code",
      "source": [
        "f1_score_knn_micro = f1_score(y_valid, y_pred_knn, average = 'micro')\n",
        "print(f1_score_knn_micro)\n",
        "\n",
        "f1_score_knn_macro = f1_score(y_valid, y_pred_knn, average = 'macro')\n",
        "print(f1_score_knn_macro)\n",
        "\n",
        "f1_score_knn_weighted = f1_score(y_valid, y_pred_knn, average = 'weighted')\n",
        "print(f1_score_knn_weighted)\n",
        "\n",
        "acc_knn = accuracy_score(y_valid, y_pred_knn)\n",
        "print(acc_knn)\n",
        "\n",
        "cf_knn = confusion_matrix(y_valid, y_pred_knn)\n",
        "print(cf_knn)"
      ],
      "metadata": {
        "colab": {
          "base_uri": "https://localhost:8080/"
        },
        "id": "cuZoM5sRtaK8",
        "outputId": "8b172662-bfe4-4ca7-bceb-e7f01a83c3e3"
      },
      "execution_count": null,
      "outputs": [
        {
          "output_type": "stream",
          "name": "stdout",
          "text": [
            "0.9466666666666667\n",
            "0.9469965070127521\n",
            "0.9469194589737638\n",
            "0.9466666666666667\n",
            "[[73  2  0  0]\n",
            " [ 2 73  3  0]\n",
            " [ 0  2 72  1]\n",
            " [ 0  0  6 66]]\n"
          ]
        }
      ]
    },
    {
      "cell_type": "code",
      "source": [
        "#Algoritma Naive Bayes\n",
        "from sklearn.svm import SVC \n",
        "from sklearn.model_selection import GridSearchCV\n",
        "from sklearn.metrics import make_scorer, f1_score, confusion_matrix, accuracy_score\n",
        "\n",
        "svc = SVC()"
      ],
      "metadata": {
        "id": "CJti0P39taPG"
      },
      "execution_count": null,
      "outputs": []
    },
    {
      "cell_type": "code",
      "source": [
        "scoring = make_scorer(f1_score, average = ('micro'))\n",
        "\n",
        "params_NB = {'C' : [0.05,0.1,0.2,0.25,0.3,0.4,0.5,0.6,0.7,0.8,0.9,1],\n",
        "             'gamma' : [0.1,0.2,0.3,0.4,0.5,0.6,0.7,0.8,0.9,1.0],\n",
        "             'kernel': ['rbf','linear']\n",
        "            }"
      ],
      "metadata": {
        "id": "k_3hlpzAtaUl"
      },
      "execution_count": null,
      "outputs": []
    },
    {
      "cell_type": "code",
      "source": [
        "gscv_NB = GridSearchCV(svc, params_NB, scoring = scoring, cv = 10)\n",
        "\n",
        "gscv_NB.fit(x_train, y_train)"
      ],
      "metadata": {
        "colab": {
          "base_uri": "https://localhost:8080/",
          "height": 290
        },
        "id": "8lE1OERBtaZa",
        "outputId": "e25e27af-6fda-4507-8470-abd743ec2488"
      },
      "execution_count": null,
      "outputs": [
        {
          "output_type": "execute_result",
          "data": {
            "text/plain": [
              "GridSearchCV(cv=10, estimator=SVC(),\n",
              "             param_grid={'C': [0.05, 0.1, 0.2, 0.25, 0.3, 0.4, 0.5, 0.6, 0.7,\n",
              "                               0.8, 0.9, 1],\n",
              "                         'gamma': [0.1, 0.2, 0.3, 0.4, 0.5, 0.6, 0.7, 0.8, 0.9,\n",
              "                                   1.0],\n",
              "                         'kernel': ['rbf', 'linear']},\n",
              "             scoring=make_scorer(f1_score, average=micro))"
            ],
            "text/html": [
              "<style>#sk-container-id-3 {color: black;background-color: white;}#sk-container-id-3 pre{padding: 0;}#sk-container-id-3 div.sk-toggleable {background-color: white;}#sk-container-id-3 label.sk-toggleable__label {cursor: pointer;display: block;width: 100%;margin-bottom: 0;padding: 0.3em;box-sizing: border-box;text-align: center;}#sk-container-id-3 label.sk-toggleable__label-arrow:before {content: \"▸\";float: left;margin-right: 0.25em;color: #696969;}#sk-container-id-3 label.sk-toggleable__label-arrow:hover:before {color: black;}#sk-container-id-3 div.sk-estimator:hover label.sk-toggleable__label-arrow:before {color: black;}#sk-container-id-3 div.sk-toggleable__content {max-height: 0;max-width: 0;overflow: hidden;text-align: left;background-color: #f0f8ff;}#sk-container-id-3 div.sk-toggleable__content pre {margin: 0.2em;color: black;border-radius: 0.25em;background-color: #f0f8ff;}#sk-container-id-3 input.sk-toggleable__control:checked~div.sk-toggleable__content {max-height: 200px;max-width: 100%;overflow: auto;}#sk-container-id-3 input.sk-toggleable__control:checked~label.sk-toggleable__label-arrow:before {content: \"▾\";}#sk-container-id-3 div.sk-estimator input.sk-toggleable__control:checked~label.sk-toggleable__label {background-color: #d4ebff;}#sk-container-id-3 div.sk-label input.sk-toggleable__control:checked~label.sk-toggleable__label {background-color: #d4ebff;}#sk-container-id-3 input.sk-hidden--visually {border: 0;clip: rect(1px 1px 1px 1px);clip: rect(1px, 1px, 1px, 1px);height: 1px;margin: -1px;overflow: hidden;padding: 0;position: absolute;width: 1px;}#sk-container-id-3 div.sk-estimator {font-family: monospace;background-color: #f0f8ff;border: 1px dotted black;border-radius: 0.25em;box-sizing: border-box;margin-bottom: 0.5em;}#sk-container-id-3 div.sk-estimator:hover {background-color: #d4ebff;}#sk-container-id-3 div.sk-parallel-item::after {content: \"\";width: 100%;border-bottom: 1px solid gray;flex-grow: 1;}#sk-container-id-3 div.sk-label:hover label.sk-toggleable__label {background-color: #d4ebff;}#sk-container-id-3 div.sk-serial::before {content: \"\";position: absolute;border-left: 1px solid gray;box-sizing: border-box;top: 0;bottom: 0;left: 50%;z-index: 0;}#sk-container-id-3 div.sk-serial {display: flex;flex-direction: column;align-items: center;background-color: white;padding-right: 0.2em;padding-left: 0.2em;position: relative;}#sk-container-id-3 div.sk-item {position: relative;z-index: 1;}#sk-container-id-3 div.sk-parallel {display: flex;align-items: stretch;justify-content: center;background-color: white;position: relative;}#sk-container-id-3 div.sk-item::before, #sk-container-id-3 div.sk-parallel-item::before {content: \"\";position: absolute;border-left: 1px solid gray;box-sizing: border-box;top: 0;bottom: 0;left: 50%;z-index: -1;}#sk-container-id-3 div.sk-parallel-item {display: flex;flex-direction: column;z-index: 1;position: relative;background-color: white;}#sk-container-id-3 div.sk-parallel-item:first-child::after {align-self: flex-end;width: 50%;}#sk-container-id-3 div.sk-parallel-item:last-child::after {align-self: flex-start;width: 50%;}#sk-container-id-3 div.sk-parallel-item:only-child::after {width: 0;}#sk-container-id-3 div.sk-dashed-wrapped {border: 1px dashed gray;margin: 0 0.4em 0.5em 0.4em;box-sizing: border-box;padding-bottom: 0.4em;background-color: white;}#sk-container-id-3 div.sk-label label {font-family: monospace;font-weight: bold;display: inline-block;line-height: 1.2em;}#sk-container-id-3 div.sk-label-container {text-align: center;}#sk-container-id-3 div.sk-container {/* jupyter's `normalize.less` sets `[hidden] { display: none; }` but bootstrap.min.css set `[hidden] { display: none !important; }` so we also need the `!important` here to be able to override the default hidden behavior on the sphinx rendered scikit-learn.org. See: https://github.com/scikit-learn/scikit-learn/issues/21755 */display: inline-block !important;position: relative;}#sk-container-id-3 div.sk-text-repr-fallback {display: none;}</style><div id=\"sk-container-id-3\" class=\"sk-top-container\"><div class=\"sk-text-repr-fallback\"><pre>GridSearchCV(cv=10, estimator=SVC(),\n",
              "             param_grid={&#x27;C&#x27;: [0.05, 0.1, 0.2, 0.25, 0.3, 0.4, 0.5, 0.6, 0.7,\n",
              "                               0.8, 0.9, 1],\n",
              "                         &#x27;gamma&#x27;: [0.1, 0.2, 0.3, 0.4, 0.5, 0.6, 0.7, 0.8, 0.9,\n",
              "                                   1.0],\n",
              "                         &#x27;kernel&#x27;: [&#x27;rbf&#x27;, &#x27;linear&#x27;]},\n",
              "             scoring=make_scorer(f1_score, average=micro))</pre><b>In a Jupyter environment, please rerun this cell to show the HTML representation or trust the notebook. <br />On GitHub, the HTML representation is unable to render, please try loading this page with nbviewer.org.</b></div><div class=\"sk-container\" hidden><div class=\"sk-item sk-dashed-wrapped\"><div class=\"sk-label-container\"><div class=\"sk-label sk-toggleable\"><input class=\"sk-toggleable__control sk-hidden--visually\" id=\"sk-estimator-id-7\" type=\"checkbox\" ><label for=\"sk-estimator-id-7\" class=\"sk-toggleable__label sk-toggleable__label-arrow\">GridSearchCV</label><div class=\"sk-toggleable__content\"><pre>GridSearchCV(cv=10, estimator=SVC(),\n",
              "             param_grid={&#x27;C&#x27;: [0.05, 0.1, 0.2, 0.25, 0.3, 0.4, 0.5, 0.6, 0.7,\n",
              "                               0.8, 0.9, 1],\n",
              "                         &#x27;gamma&#x27;: [0.1, 0.2, 0.3, 0.4, 0.5, 0.6, 0.7, 0.8, 0.9,\n",
              "                                   1.0],\n",
              "                         &#x27;kernel&#x27;: [&#x27;rbf&#x27;, &#x27;linear&#x27;]},\n",
              "             scoring=make_scorer(f1_score, average=micro))</pre></div></div></div><div class=\"sk-parallel\"><div class=\"sk-parallel-item\"><div class=\"sk-item\"><div class=\"sk-label-container\"><div class=\"sk-label sk-toggleable\"><input class=\"sk-toggleable__control sk-hidden--visually\" id=\"sk-estimator-id-8\" type=\"checkbox\" ><label for=\"sk-estimator-id-8\" class=\"sk-toggleable__label sk-toggleable__label-arrow\">estimator: SVC</label><div class=\"sk-toggleable__content\"><pre>SVC()</pre></div></div></div><div class=\"sk-serial\"><div class=\"sk-item\"><div class=\"sk-estimator sk-toggleable\"><input class=\"sk-toggleable__control sk-hidden--visually\" id=\"sk-estimator-id-9\" type=\"checkbox\" ><label for=\"sk-estimator-id-9\" class=\"sk-toggleable__label sk-toggleable__label-arrow\">SVC</label><div class=\"sk-toggleable__content\"><pre>SVC()</pre></div></div></div></div></div></div></div></div></div></div>"
            ]
          },
          "metadata": {},
          "execution_count": 55
        }
      ]
    },
    {
      "cell_type": "code",
      "source": [
        "print(gscv_NB.best_params_)\n",
        "print(gscv_NB.best_score_)"
      ],
      "metadata": {
        "colab": {
          "base_uri": "https://localhost:8080/"
        },
        "id": "Y-Xdif65uL9L",
        "outputId": "e99b9ddd-7d94-4ab7-c177-2235336569b7"
      },
      "execution_count": null,
      "outputs": [
        {
          "output_type": "stream",
          "name": "stdout",
          "text": [
            "{'C': 0.05, 'gamma': 0.1, 'kernel': 'linear'}\n",
            "0.9783333333333333\n"
          ]
        }
      ]
    },
    {
      "cell_type": "code",
      "source": [
        "model_NB = SVC(C = 0.05, gamma = 0.1, kernel = 'linear')\n",
        "model_NB.fit(x_train, y_train)\n",
        "\n",
        "SVC(C=0.05, gamma=0.1, kernel='linear')\n",
        "\n",
        "y_pred_NB =  model_NB.predict(x_valid)"
      ],
      "metadata": {
        "id": "SXScXFLouV0q"
      },
      "execution_count": null,
      "outputs": []
    },
    {
      "cell_type": "code",
      "source": [
        "f1_score_NB_micro = f1_score(y_valid, y_pred_NB, average = 'micro')\n",
        "print(f1_score_NB_micro)\n",
        "\n",
        "f1_score_NB_macro = f1_score(y_valid, y_pred_NB, average = 'macro')\n",
        "print(f1_score_NB_macro)\n",
        "\n",
        "f1_score_NB_weighted = f1_score(y_valid, y_pred_NB, average = 'weighted')\n",
        "print(f1_score_NB_weighted)\n",
        "\n",
        "acc_NB = accuracy_score(y_valid, y_pred_NB)\n",
        "print(acc_NB)\n",
        "\n",
        "cf_NB = confusion_matrix(y_valid, y_pred_NB)\n",
        "print(cf_NB)"
      ],
      "metadata": {
        "colab": {
          "base_uri": "https://localhost:8080/"
        },
        "id": "tw61XZvUuV7d",
        "outputId": "1edf2996-7802-414b-edf9-33cc0ebf28f8"
      },
      "execution_count": null,
      "outputs": [
        {
          "output_type": "stream",
          "name": "stdout",
          "text": [
            "0.97\n",
            "0.9701594415216706\n",
            "0.9699744948893556\n",
            "0.97\n",
            "[[75  0  0  0]\n",
            " [ 2 73  3  0]\n",
            " [ 0  1 73  1]\n",
            " [ 0  0  2 70]]\n"
          ]
        }
      ]
    },
    {
      "cell_type": "code",
      "source": [
        "#Mmebandingkan hasil ketiganya\n",
        "import matplotlib.pyplot as plt\n",
        "\n",
        "labels = ['f1_micro','f1_macro','f1_weighted', 'Accuracy']\n",
        "random_forest = [f1_score_rfc_micro, f1_score_rfc_macro, f1_score_rfc_weighted, acc_rfc]\n",
        "knn = [f1_score_knn_micro, f1_score_knn_macro, f1_score_knn_weighted, acc_knn]\n",
        "naive_bayes = [f1_score_NB_micro, f1_score_NB_macro, f1_score_NB_weighted, acc_NB]\n",
        "\n",
        "x = 2*np.arange(len(labels))\n",
        "width = 0.3\n",
        "\n",
        "fig, ax = plt.subplots(figsize=(16,8))\n",
        "rects1 = ax.bar(x - width, random_forest, width, label='Random Forest')\n",
        "rects2 = ax.bar(x , knn, width, label='KNN')\n",
        "rects3 = ax.bar(x + width, naive_bayes, width, label='Naive_bayes')\n",
        "\n",
        "def autolabel(rects):\n",
        "    for rect in rects:\n",
        "        height = rect.get_height()\n",
        "        ax.annotate('{:.2f}'.format(height),\n",
        "                    xy=(rect.get_x() + rect.get_width() / 2, height),\n",
        "                    xytext=(0, 3),\n",
        "                    textcoords=\"offset points\",\n",
        "                    ha='center', va='bottom')\n",
        "  \n",
        "autolabel(rects1)\n",
        "autolabel(rects2)\n",
        "autolabel(rects3)\n",
        "ax.set_ylabel('Scores')\n",
        "ax.set_title('f1_Scores & Accuracy by Algorithm')\n",
        "ax.set_xticks(x)\n",
        "ax.set_xticklabels(labels)\n",
        "ax.legend(loc='center')\n",
        "plt.show()"
      ],
      "metadata": {
        "colab": {
          "base_uri": "https://localhost:8080/",
          "height": 596
        },
        "id": "yEJbH5fcuWB1",
        "outputId": "4760853c-236b-4836-8db4-8df1c267f7b9"
      },
      "execution_count": null,
      "outputs": [
        {
          "output_type": "display_data",
          "data": {
            "text/plain": [
              "<Figure size 1600x800 with 1 Axes>"
            ],
            "image/png": "[encoded data removed]"
          },
          "metadata": {}
        }
      ]
    },
    {
      "cell_type": "code",
      "source": [
        "#Mmeprediksi data test dengan Naives Bayes\n",
        "price_range_pred_NB = model_NB.predict(x_test)\n",
        "price_range_pred_NB"
      ],
      "metadata": {
        "colab": {
          "base_uri": "https://localhost:8080/"
        },
        "id": "Y10U7lpsuWJV",
        "outputId": "55778433-a6bf-412d-97f0-2cfe883276f0"
      },
      "execution_count": null,
      "outputs": [
        {
          "output_type": "execute_result",
          "data": {
            "text/plain": [
              "array([3, 0, 2, 2, 2, 0, 0, 3, 3, 1, 1, 3, 0, 2, 3, 0, 3, 2, 2, 1, 0, 0,\n",
              "       3, 1, 2, 2, 3, 1, 3, 1, 1, 0, 2, 0, 1, 3, 0, 0, 3, 3, 2, 1, 3, 3,\n",
              "       1, 3, 0, 1, 3, 1, 1, 3, 0, 3, 0, 2, 2, 2, 0, 3, 3, 1, 3, 2, 1, 2,\n",
              "       3, 2, 2, 2, 3, 2, 1, 0, 1, 3, 2, 2, 1, 2, 3, 3, 3, 0, 0, 0, 2, 1,\n",
              "       2, 3, 1, 2, 2, 1, 0, 3, 3, 3, 0, 3, 1, 1, 3, 1, 3, 2, 2, 3, 2, 3,\n",
              "       3, 0, 0, 1, 3, 3, 0, 0, 1, 0, 0, 3, 2, 2, 1, 1, 1, 1, 0, 2, 1, 3,\n",
              "       3, 3, 3, 3, 3, 2, 0, 1, 1, 2, 1, 3, 1, 3, 0, 0, 2, 0, 1, 1, 1, 1,\n",
              "       3, 0, 0, 3, 1, 3, 2, 1, 3, 1, 2, 3, 3, 2, 1, 0, 3, 1, 1, 3, 3, 0,\n",
              "       2, 2, 3, 0, 2, 1, 0, 1, 2, 1, 2, 0, 3, 3, 1, 1, 0, 2, 3, 0, 1, 3,\n",
              "       2, 0, 3, 3, 3, 1, 2, 3, 3, 3, 0, 0, 0, 2, 3, 3, 0, 0, 1, 3, 2, 3,\n",
              "       3, 3, 0, 0, 2, 2, 3, 1, 0, 2, 0, 0, 0, 3, 2, 0, 2, 2, 1, 1, 0, 2,\n",
              "       3, 3, 0, 0, 1, 3, 3, 2, 3, 0, 3, 1, 1, 0, 2, 3, 3, 2, 0, 0, 1, 2,\n",
              "       3, 2, 2, 3, 2, 1, 0, 3, 3, 2, 1, 3, 2, 2, 2, 1, 0, 2, 1, 1, 0, 0,\n",
              "       2, 2, 2, 2, 0, 1, 3, 0, 2, 2, 3, 0, 2, 0, 1, 1, 3, 0, 0, 1, 3, 1,\n",
              "       2, 0, 2, 0, 3, 0, 3, 3, 2, 3, 1, 2, 2, 1, 1, 1, 0, 1, 0, 3, 1, 0,\n",
              "       3, 0, 0, 1, 3, 0, 3, 1, 2, 0, 1, 3, 0, 2, 2, 1, 2, 1, 1, 0, 2, 0,\n",
              "       0, 3, 1, 2, 3, 2, 2, 0, 3, 2, 2, 1, 3, 2, 3, 3, 3, 0, 2, 0, 3, 0,\n",
              "       1, 1, 2, 2, 1, 3, 1, 2, 0, 1, 2, 3, 0, 0, 1, 3, 0, 3, 0, 2, 2, 1,\n",
              "       1, 0, 2, 0, 0, 1, 3, 0, 3, 3, 0, 2, 1, 3, 1, 1, 3, 2, 0, 3, 2, 2,\n",
              "       0, 0, 3, 0, 1, 1, 1, 3, 2, 3, 2, 0, 3, 0, 0, 1, 3, 0, 0, 3, 2, 2,\n",
              "       2, 3, 0, 0, 1, 2, 1, 2, 0, 3, 3, 0, 3, 3, 0, 2, 2, 1, 0, 2, 2, 1,\n",
              "       3, 2, 2, 0, 2, 0, 3, 3, 2, 1, 0, 3, 1, 2, 0, 0, 1, 3, 0, 3, 0, 0,\n",
              "       1, 2, 0, 1, 3, 0, 2, 2, 1, 2, 0, 3, 0, 2, 3, 2])"
            ]
          },
          "metadata": {},
          "execution_count": 61
        }
      ]
    },
    {
      "cell_type": "code",
      "source": [
        "df_test['price_range'] = price_range_pred_NB\n",
        "df_test"
      ],
      "metadata": {
        "colab": {
          "base_uri": "https://localhost:8080/",
          "height": 487
        },
        "id": "HV-PJXiavUNR",
        "outputId": "95fa512c-7930-40c7-ebe3-7d6f0420ae7d"
      },
      "execution_count": null,
      "outputs": [
        {
          "output_type": "execute_result",
          "data": {
            "text/plain": [
              "     index  daya_baterai  bluetooth  kecepatan_clock  dual_sim  kamera_depan  \\\n",
              "0      405          1454          1              0.5         1             1   \n",
              "1     1190          1092          1              0.5         1            10   \n",
              "2     1132          1524          1              1.8         1             0   \n",
              "3      731          1807          1              2.1         0             2   \n",
              "4     1754          1086          1              1.7         1             0   \n",
              "..     ...           ...        ...              ...       ...           ...   \n",
              "495    936           805          0              0.8         0             1   \n",
              "496   1524          1162          0              1.0         0             0   \n",
              "497   1415          1759          1              1.4         0            10   \n",
              "498   1223           514          1              1.6         0             7   \n",
              "499   1548          1410          1              0.5         1             0   \n",
              "\n",
              "     four_g  memori_internal  tebal_hp  berat_hp  ...  px_panjang  px_lebar  \\\n",
              "0         0               34       0.7        83  ...         250      1033   \n",
              "1         0               11       0.5       167  ...         468       571   \n",
              "2         0               10       0.6       174  ...         154       550   \n",
              "3         0               49       0.8       125  ...         337      1384   \n",
              "4         1               43       0.2       111  ...          56      1150   \n",
              "..      ...              ...       ...       ...  ...         ...       ...   \n",
              "495       0               34       0.6        88  ...        1262      1538   \n",
              "496       0               50       0.5       104  ...         332       866   \n",
              "497       1               15       0.4       101  ...         382      1163   \n",
              "498       1               37       0.1       172  ...         956      1723   \n",
              "499       1               15       0.3        92  ...         192      1311   \n",
              "\n",
              "     kapasitas_ram  panjang_layar  lebar_layar  waktu_telfon  three_g  \\\n",
              "0             3419              7            5             5        1   \n",
              "1              737             14            4            11        0   \n",
              "2             2678             16            5            13        1   \n",
              "3             1906             17           13            13        0   \n",
              "4             3285             11            5            17        1   \n",
              "..             ...            ...          ...           ...      ...   \n",
              "495           3647             18           11             9        1   \n",
              "496           1404             10            3            15        1   \n",
              "497           2107             18            5            16        1   \n",
              "498           3392             12            8             5        1   \n",
              "499           2304             18            4            18        1   \n",
              "\n",
              "     touch_screen  wifi  price_range  \n",
              "0               1     0            3  \n",
              "1               1     0            0  \n",
              "2               0     1            2  \n",
              "3               1     1            2  \n",
              "4               1     0            2  \n",
              "..            ...   ...          ...  \n",
              "495             0     1            3  \n",
              "496             1     1            0  \n",
              "497             1     0            2  \n",
              "498             1     1            3  \n",
              "499             1     0            2  \n",
              "\n",
              "[500 rows x 22 columns]"
            ],
            "text/html": [
              "\n",
              "  <div id=\"df-edfd72fc-112e-433d-a169-2c09ebd02b06\">\n",
              "    <div class=\"colab-df-container\">\n",
              "      <div>\n",
              "<style scoped>\n",
              "    .dataframe tbody tr th:only-of-type {\n",
              "        vertical-align: middle;\n",
              "    }\n",
              "\n",
              "    .dataframe tbody tr th {\n",
              "        vertical-align: top;\n",
              "    }\n",
              "\n",
              "    .dataframe thead th {\n",
              "        text-align: right;\n",
              "    }\n",
              "</style>\n",
              "<table border=\"1\" class=\"dataframe\">\n",
              "  <thead>\n",
              "    <tr style=\"text-align: right;\">\n",
              "      <th></th>\n",
              "      <th>index</th>\n",
              "      <th>daya_baterai</th>\n",
              "      <th>bluetooth</th>\n",
              "      <th>kecepatan_clock</th>\n",
              "      <th>dual_sim</th>\n",
              "      <th>kamera_depan</th>\n",
              "      <th>four_g</th>\n",
              "      <th>memori_internal</th>\n",
              "      <th>tebal_hp</th>\n",
              "      <th>berat_hp</th>\n",
              "      <th>...</th>\n",
              "      <th>px_panjang</th>\n",
              "      <th>px_lebar</th>\n",
              "      <th>kapasitas_ram</th>\n",
              "      <th>panjang_layar</th>\n",
              "      <th>lebar_layar</th>\n",
              "      <th>waktu_telfon</th>\n",
              "      <th>three_g</th>\n",
              "      <th>touch_screen</th>\n",
              "      <th>wifi</th>\n",
              "      <th>price_range</th>\n",
              "    </tr>\n",
              "  </thead>\n",
              "  <tbody>\n",
              "    <tr>\n",
              "      <th>0</th>\n",
              "      <td>405</td>\n",
              "      <td>1454</td>\n",
              "      <td>1</td>\n",
              "      <td>0.5</td>\n",
              "      <td>1</td>\n",
              "      <td>1</td>\n",
              "      <td>0</td>\n",
              "      <td>34</td>\n",
              "      <td>0.7</td>\n",
              "      <td>83</td>\n",
              "      <td>...</td>\n",
              "      <td>250</td>\n",
              "      <td>1033</td>\n",
              "      <td>3419</td>\n",
              "      <td>7</td>\n",
              "      <td>5</td>\n",
              "      <td>5</td>\n",
              "      <td>1</td>\n",
              "      <td>1</td>\n",
              "      <td>0</td>\n",
              "      <td>3</td>\n",
              "    </tr>\n",
              "    <tr>\n",
              "      <th>1</th>\n",
              "      <td>1190</td>\n",
              "      <td>1092</td>\n",
              "      <td>1</td>\n",
              "      <td>0.5</td>\n",
              "      <td>1</td>\n",
              "      <td>10</td>\n",
              "      <td>0</td>\n",
              "      <td>11</td>\n",
              "      <td>0.5</td>\n",
              "      <td>167</td>\n",
              "      <td>...</td>\n",
              "      <td>468</td>\n",
              "      <td>571</td>\n",
              "      <td>737</td>\n",
              "      <td>14</td>\n",
              "      <td>4</td>\n",
              "      <td>11</td>\n",
              "      <td>0</td>\n",
              "      <td>1</td>\n",
              "      <td>0</td>\n",
              "      <td>0</td>\n",
              "    </tr>\n",
              "    <tr>\n",
              "      <th>2</th>\n",
              "      <td>1132</td>\n",
              "      <td>1524</td>\n",
              "      <td>1</td>\n",
              "      <td>1.8</td>\n",
              "      <td>1</td>\n",
              "      <td>0</td>\n",
              "      <td>0</td>\n",
              "      <td>10</td>\n",
              "      <td>0.6</td>\n",
              "      <td>174</td>\n",
              "      <td>...</td>\n",
              "      <td>154</td>\n",
              "      <td>550</td>\n",
              "      <td>2678</td>\n",
              "      <td>16</td>\n",
              "      <td>5</td>\n",
              "      <td>13</td>\n",
              "      <td>1</td>\n",
              "      <td>0</td>\n",
              "      <td>1</td>\n",
              "      <td>2</td>\n",
              "    </tr>\n",
              "    <tr>\n",
              "      <th>3</th>\n",
              "      <td>731</td>\n",
              "      <td>1807</td>\n",
              "      <td>1</td>\n",
              "      <td>2.1</td>\n",
              "      <td>0</td>\n",
              "      <td>2</td>\n",
              "      <td>0</td>\n",
              "      <td>49</td>\n",
              "      <td>0.8</td>\n",
              "      <td>125</td>\n",
              "      <td>...</td>\n",
              "      <td>337</td>\n",
              "      <td>1384</td>\n",
              "      <td>1906</td>\n",
              "      <td>17</td>\n",
              "      <td>13</td>\n",
              "      <td>13</td>\n",
              "      <td>0</td>\n",
              "      <td>1</td>\n",
              "      <td>1</td>\n",
              "      <td>2</td>\n",
              "    </tr>\n",
              "    <tr>\n",
              "      <th>4</th>\n",
              "      <td>1754</td>\n",
              "      <td>1086</td>\n",
              "      <td>1</td>\n",
              "      <td>1.7</td>\n",
              "      <td>1</td>\n",
              "      <td>0</td>\n",
              "      <td>1</td>\n",
              "      <td>43</td>\n",
              "      <td>0.2</td>\n",
              "      <td>111</td>\n",
              "      <td>...</td>\n",
              "      <td>56</td>\n",
              "      <td>1150</td>\n",
              "      <td>3285</td>\n",
              "      <td>11</td>\n",
              "      <td>5</td>\n",
              "      <td>17</td>\n",
              "      <td>1</td>\n",
              "      <td>1</td>\n",
              "      <td>0</td>\n",
              "      <td>2</td>\n",
              "    </tr>\n",
              "    <tr>\n",
              "      <th>...</th>\n",
              "      <td>...</td>\n",
              "      <td>...</td>\n",
              "      <td>...</td>\n",
              "      <td>...</td>\n",
              "      <td>...</td>\n",
              "      <td>...</td>\n",
              "      <td>...</td>\n",
              "      <td>...</td>\n",
              "      <td>...</td>\n",
              "      <td>...</td>\n",
              "      <td>...</td>\n",
              "      <td>...</td>\n",
              "      <td>...</td>\n",
              "      <td>...</td>\n",
              "      <td>...</td>\n",
              "      <td>...</td>\n",
              "      <td>...</td>\n",
              "      <td>...</td>\n",
              "      <td>...</td>\n",
              "      <td>...</td>\n",
              "      <td>...</td>\n",
              "    </tr>\n",
              "    <tr>\n",
              "      <th>495</th>\n",
              "      <td>936</td>\n",
              "      <td>805</td>\n",
              "      <td>0</td>\n",
              "      <td>0.8</td>\n",
              "      <td>0</td>\n",
              "      <td>1</td>\n",
              "      <td>0</td>\n",
              "      <td>34</td>\n",
              "      <td>0.6</td>\n",
              "      <td>88</td>\n",
              "      <td>...</td>\n",
              "      <td>1262</td>\n",
              "      <td>1538</td>\n",
              "      <td>3647</td>\n",
              "      <td>18</td>\n",
              "      <td>11</td>\n",
              "      <td>9</td>\n",
              "      <td>1</td>\n",
              "      <td>0</td>\n",
              "      <td>1</td>\n",
              "      <td>3</td>\n",
              "    </tr>\n",
              "    <tr>\n",
              "      <th>496</th>\n",
              "      <td>1524</td>\n",
              "      <td>1162</td>\n",
              "      <td>0</td>\n",
              "      <td>1.0</td>\n",
              "      <td>0</td>\n",
              "      <td>0</td>\n",
              "      <td>0</td>\n",
              "      <td>50</td>\n",
              "      <td>0.5</td>\n",
              "      <td>104</td>\n",
              "      <td>...</td>\n",
              "      <td>332</td>\n",
              "      <td>866</td>\n",
              "      <td>1404</td>\n",
              "      <td>10</td>\n",
              "      <td>3</td>\n",
              "      <td>15</td>\n",
              "      <td>1</td>\n",
              "      <td>1</td>\n",
              "      <td>1</td>\n",
              "      <td>0</td>\n",
              "    </tr>\n",
              "    <tr>\n",
              "      <th>497</th>\n",
              "      <td>1415</td>\n",
              "      <td>1759</td>\n",
              "      <td>1</td>\n",
              "      <td>1.4</td>\n",
              "      <td>0</td>\n",
              "      <td>10</td>\n",
              "      <td>1</td>\n",
              "      <td>15</td>\n",
              "      <td>0.4</td>\n",
              "      <td>101</td>\n",
              "      <td>...</td>\n",
              "      <td>382</td>\n",
              "      <td>1163</td>\n",
              "      <td>2107</td>\n",
              "      <td>18</td>\n",
              "      <td>5</td>\n",
              "      <td>16</td>\n",
              "      <td>1</td>\n",
              "      <td>1</td>\n",
              "      <td>0</td>\n",
              "      <td>2</td>\n",
              "    </tr>\n",
              "    <tr>\n",
              "      <th>498</th>\n",
              "      <td>1223</td>\n",
              "      <td>514</td>\n",
              "      <td>1</td>\n",
              "      <td>1.6</td>\n",
              "      <td>0</td>\n",
              "      <td>7</td>\n",
              "      <td>1</td>\n",
              "      <td>37</td>\n",
              "      <td>0.1</td>\n",
              "      <td>172</td>\n",
              "      <td>...</td>\n",
              "      <td>956</td>\n",
              "      <td>1723</td>\n",
              "      <td>3392</td>\n",
              "      <td>12</td>\n",
              "      <td>8</td>\n",
              "      <td>5</td>\n",
              "      <td>1</td>\n",
              "      <td>1</td>\n",
              "      <td>1</td>\n",
              "      <td>3</td>\n",
              "    </tr>\n",
              "    <tr>\n",
              "      <th>499</th>\n",
              "      <td>1548</td>\n",
              "      <td>1410</td>\n",
              "      <td>1</td>\n",
              "      <td>0.5</td>\n",
              "      <td>1</td>\n",
              "      <td>0</td>\n",
              "      <td>1</td>\n",
              "      <td>15</td>\n",
              "      <td>0.3</td>\n",
              "      <td>92</td>\n",
              "      <td>...</td>\n",
              "      <td>192</td>\n",
              "      <td>1311</td>\n",
              "      <td>2304</td>\n",
              "      <td>18</td>\n",
              "      <td>4</td>\n",
              "      <td>18</td>\n",
              "      <td>1</td>\n",
              "      <td>1</td>\n",
              "      <td>0</td>\n",
              "      <td>2</td>\n",
              "    </tr>\n",
              "  </tbody>\n",
              "</table>\n",
              "<p>500 rows × 22 columns</p>\n",
              "</div>\n",
              "      <button class=\"colab-df-convert\" onclick=\"convertToInteractive('df-edfd72fc-112e-433d-a169-2c09ebd02b06')\"\n",
              "              title=\"Convert this dataframe to an interactive table.\"\n",
              "              style=\"display:none;\">\n",
              "        \n",
              "  <svg xmlns=\"http://www.w3.org/2000/svg\" height=\"24px\"viewBox=\"0 0 24 24\"\n",
              "       width=\"24px\">\n",
              "    <path d=\"M0 0h24v24H0V0z\" fill=\"none\"/>\n",
              "    <path d=\"M18.56 5.44l.94 2.06.94-2.06 2.06-.94-2.06-.94-.94-2.06-.94 2.06-2.06.94zm-11 1L8.5 8.5l.94-2.06 2.06-.94-2.06-.94L8.5 2.5l-.94 2.06-2.06.94zm10 10l.94 2.06.94-2.06 2.06-.94-2.06-.94-.94-2.06-.94 2.06-2.06.94z\"/><path d=\"M17.41 7.96l-1.37-1.37c-.4-.4-.92-.59-1.43-.59-.52 0-1.04.2-1.43.59L10.3 9.45l-7.72 7.72c-.78.78-.78 2.05 0 2.83L4 21.41c.39.39.9.59 1.41.59.51 0 1.02-.2 1.41-.59l7.78-7.78 2.81-2.81c.8-.78.8-2.07 0-2.86zM5.41 20L4 18.59l7.72-7.72 1.47 1.35L5.41 20z\"/>\n",
              "  </svg>\n",
              "      </button>\n",
              "      \n",
              "  <style>\n",
              "    .colab-df-container {\n",
              "      display:flex;\n",
              "      flex-wrap:wrap;\n",
              "      gap: 12px;\n",
              "    }\n",
              "\n",
              "    .colab-df-convert {\n",
              "      background-color: #E8F0FE;\n",
              "      border: none;\n",
              "      border-radius: 50%;\n",
              "      cursor: pointer;\n",
              "      display: none;\n",
              "      fill: #1967D2;\n",
              "      height: 32px;\n",
              "      padding: 0 0 0 0;\n",
              "      width: 32px;\n",
              "    }\n",
              "\n",
              "    .colab-df-convert:hover {\n",
              "      background-color: #E2EBFA;\n",
              "      box-shadow: 0px 1px 2px rgba(60, 64, 67, 0.3), 0px 1px 3px 1px rgba(60, 64, 67, 0.15);\n",
              "      fill: #174EA6;\n",
              "    }\n",
              "\n",
              "    [theme=dark] .colab-df-convert {\n",
              "      background-color: #3B4455;\n",
              "      fill: #D2E3FC;\n",
              "    }\n",
              "\n",
              "    [theme=dark] .colab-df-convert:hover {\n",
              "      background-color: #434B5C;\n",
              "      box-shadow: 0px 1px 3px 1px rgba(0, 0, 0, 0.15);\n",
              "      filter: drop-shadow(0px 1px 2px rgba(0, 0, 0, 0.3));\n",
              "      fill: #FFFFFF;\n",
              "    }\n",
              "  </style>\n",
              "\n",
              "      <script>\n",
              "        const buttonEl =\n",
              "          document.querySelector('#df-edfd72fc-112e-433d-a169-2c09ebd02b06 button.colab-df-convert');\n",
              "        buttonEl.style.display =\n",
              "          google.colab.kernel.accessAllowed ? 'block' : 'none';\n",
              "\n",
              "        async function convertToInteractive(key) {\n",
              "          const element = document.querySelector('#df-edfd72fc-112e-433d-a169-2c09ebd02b06');\n",
              "          const dataTable =\n",
              "            await google.colab.kernel.invokeFunction('convertToInteractive',\n",
              "                                                     [key], {});\n",
              "          if (!dataTable) return;\n",
              "\n",
              "          const docLinkHtml = 'Like what you see? Visit the ' +\n",
              "            '<a target=\"_blank\" href=https://colab.research.google.com/notebooks/data_table.ipynb>data table notebook</a>'\n",
              "            + ' to learn more about interactive tables.';\n",
              "          element.innerHTML = '';\n",
              "          dataTable['output_type'] = 'display_data';\n",
              "          await google.colab.output.renderOutput(dataTable, element);\n",
              "          const docLink = document.createElement('div');\n",
              "          docLink.innerHTML = docLinkHtml;\n",
              "          element.appendChild(docLink);\n",
              "        }\n",
              "      </script>\n",
              "    </div>\n",
              "  </div>\n",
              "  "
            ]
          },
          "metadata": {},
          "execution_count": 62
        }
      ]
    },
    {
      "cell_type": "code",
      "source": [
        "result_NB = df_test[['index','price_range']].astype(int)\n",
        "result_NB"
      ],
      "metadata": {
        "colab": {
          "base_uri": "https://localhost:8080/",
          "height": 423
        },
        "id": "tu6uIl7pvY7C",
        "outputId": "f7e598fe-c09c-4a79-e721-244fa6d699c3"
      },
      "execution_count": null,
      "outputs": [
        {
          "output_type": "execute_result",
          "data": {
            "text/plain": [
              "     index  price_range\n",
              "0      405            3\n",
              "1     1190            0\n",
              "2     1132            2\n",
              "3      731            2\n",
              "4     1754            2\n",
              "..     ...          ...\n",
              "495    936            3\n",
              "496   1524            0\n",
              "497   1415            2\n",
              "498   1223            3\n",
              "499   1548            2\n",
              "\n",
              "[500 rows x 2 columns]"
            ],
            "text/html": [
              "\n",
              "  <div id=\"df-13abd37b-5430-46ff-a920-a225b8f36888\">\n",
              "    <div class=\"colab-df-container\">\n",
              "      <div>\n",
              "<style scoped>\n",
              "    .dataframe tbody tr th:only-of-type {\n",
              "        vertical-align: middle;\n",
              "    }\n",
              "\n",
              "    .dataframe tbody tr th {\n",
              "        vertical-align: top;\n",
              "    }\n",
              "\n",
              "    .dataframe thead th {\n",
              "        text-align: right;\n",
              "    }\n",
              "</style>\n",
              "<table border=\"1\" class=\"dataframe\">\n",
              "  <thead>\n",
              "    <tr style=\"text-align: right;\">\n",
              "      <th></th>\n",
              "      <th>index</th>\n",
              "      <th>price_range</th>\n",
              "    </tr>\n",
              "  </thead>\n",
              "  <tbody>\n",
              "    <tr>\n",
              "      <th>0</th>\n",
              "      <td>405</td>\n",
              "      <td>3</td>\n",
              "    </tr>\n",
              "    <tr>\n",
              "      <th>1</th>\n",
              "      <td>1190</td>\n",
              "      <td>0</td>\n",
              "    </tr>\n",
              "    <tr>\n",
              "      <th>2</th>\n",
              "      <td>1132</td>\n",
              "      <td>2</td>\n",
              "    </tr>\n",
              "    <tr>\n",
              "      <th>3</th>\n",
              "      <td>731</td>\n",
              "      <td>2</td>\n",
              "    </tr>\n",
              "    <tr>\n",
              "      <th>4</th>\n",
              "      <td>1754</td>\n",
              "      <td>2</td>\n",
              "    </tr>\n",
              "    <tr>\n",
              "      <th>...</th>\n",
              "      <td>...</td>\n",
              "      <td>...</td>\n",
              "    </tr>\n",
              "    <tr>\n",
              "      <th>495</th>\n",
              "      <td>936</td>\n",
              "      <td>3</td>\n",
              "    </tr>\n",
              "    <tr>\n",
              "      <th>496</th>\n",
              "      <td>1524</td>\n",
              "      <td>0</td>\n",
              "    </tr>\n",
              "    <tr>\n",
              "      <th>497</th>\n",
              "      <td>1415</td>\n",
              "      <td>2</td>\n",
              "    </tr>\n",
              "    <tr>\n",
              "      <th>498</th>\n",
              "      <td>1223</td>\n",
              "      <td>3</td>\n",
              "    </tr>\n",
              "    <tr>\n",
              "      <th>499</th>\n",
              "      <td>1548</td>\n",
              "      <td>2</td>\n",
              "    </tr>\n",
              "  </tbody>\n",
              "</table>\n",
              "<p>500 rows × 2 columns</p>\n",
              "</div>\n",
              "      <button class=\"colab-df-convert\" onclick=\"convertToInteractive('df-13abd37b-5430-46ff-a920-a225b8f36888')\"\n",
              "              title=\"Convert this dataframe to an interactive table.\"\n",
              "              style=\"display:none;\">\n",
              "        \n",
              "  <svg xmlns=\"http://www.w3.org/2000/svg\" height=\"24px\"viewBox=\"0 0 24 24\"\n",
              "       width=\"24px\">\n",
              "    <path d=\"M0 0h24v24H0V0z\" fill=\"none\"/>\n",
              "    <path d=\"M18.56 5.44l.94 2.06.94-2.06 2.06-.94-2.06-.94-.94-2.06-.94 2.06-2.06.94zm-11 1L8.5 8.5l.94-2.06 2.06-.94-2.06-.94L8.5 2.5l-.94 2.06-2.06.94zm10 10l.94 2.06.94-2.06 2.06-.94-2.06-.94-.94-2.06-.94 2.06-2.06.94z\"/><path d=\"M17.41 7.96l-1.37-1.37c-.4-.4-.92-.59-1.43-.59-.52 0-1.04.2-1.43.59L10.3 9.45l-7.72 7.72c-.78.78-.78 2.05 0 2.83L4 21.41c.39.39.9.59 1.41.59.51 0 1.02-.2 1.41-.59l7.78-7.78 2.81-2.81c.8-.78.8-2.07 0-2.86zM5.41 20L4 18.59l7.72-7.72 1.47 1.35L5.41 20z\"/>\n",
              "  </svg>\n",
              "      </button>\n",
              "      \n",
              "  <style>\n",
              "    .colab-df-container {\n",
              "      display:flex;\n",
              "      flex-wrap:wrap;\n",
              "      gap: 12px;\n",
              "    }\n",
              "\n",
              "    .colab-df-convert {\n",
              "      background-color: #E8F0FE;\n",
              "      border: none;\n",
              "      border-radius: 50%;\n",
              "      cursor: pointer;\n",
              "      display: none;\n",
              "      fill: #1967D2;\n",
              "      height: 32px;\n",
              "      padding: 0 0 0 0;\n",
              "      width: 32px;\n",
              "    }\n",
              "\n",
              "    .colab-df-convert:hover {\n",
              "      background-color: #E2EBFA;\n",
              "      box-shadow: 0px 1px 2px rgba(60, 64, 67, 0.3), 0px 1px 3px 1px rgba(60, 64, 67, 0.15);\n",
              "      fill: #174EA6;\n",
              "    }\n",
              "\n",
              "    [theme=dark] .colab-df-convert {\n",
              "      background-color: #3B4455;\n",
              "      fill: #D2E3FC;\n",
              "    }\n",
              "\n",
              "    [theme=dark] .colab-df-convert:hover {\n",
              "      background-color: #434B5C;\n",
              "      box-shadow: 0px 1px 3px 1px rgba(0, 0, 0, 0.15);\n",
              "      filter: drop-shadow(0px 1px 2px rgba(0, 0, 0, 0.3));\n",
              "      fill: #FFFFFF;\n",
              "    }\n",
              "  </style>\n",
              "\n",
              "      <script>\n",
              "        const buttonEl =\n",
              "          document.querySelector('#df-13abd37b-5430-46ff-a920-a225b8f36888 button.colab-df-convert');\n",
              "        buttonEl.style.display =\n",
              "          google.colab.kernel.accessAllowed ? 'block' : 'none';\n",
              "\n",
              "        async function convertToInteractive(key) {\n",
              "          const element = document.querySelector('#df-13abd37b-5430-46ff-a920-a225b8f36888');\n",
              "          const dataTable =\n",
              "            await google.colab.kernel.invokeFunction('convertToInteractive',\n",
              "                                                     [key], {});\n",
              "          if (!dataTable) return;\n",
              "\n",
              "          const docLinkHtml = 'Like what you see? Visit the ' +\n",
              "            '<a target=\"_blank\" href=https://colab.research.google.com/notebooks/data_table.ipynb>data table notebook</a>'\n",
              "            + ' to learn more about interactive tables.';\n",
              "          element.innerHTML = '';\n",
              "          dataTable['output_type'] = 'display_data';\n",
              "          await google.colab.output.renderOutput(dataTable, element);\n",
              "          const docLink = document.createElement('div');\n",
              "          docLink.innerHTML = docLinkHtml;\n",
              "          element.appendChild(docLink);\n",
              "        }\n",
              "      </script>\n",
              "    </div>\n",
              "  </div>\n",
              "  "
            ]
          },
          "metadata": {},
          "execution_count": 63
        }
      ]
    },
    {
      "cell_type": "code",
      "source": [
        "#Simpan kedlaam file .csv baru\n",
        "result_NB.to_csv('hasil_prediksi_terbaik.csv', index = False)"
      ],
      "metadata": {
        "id": "ns9gk3movdh8"
      },
      "execution_count": null,
      "outputs": []
    },
    {
      "cell_type": "code",
      "source": [
        "format_check = pd.read_csv('hasil_prediksi_terbaik.csv')\n",
        "format_check.head()"
      ],
      "metadata": {
        "colab": {
          "base_uri": "https://localhost:8080/",
          "height": 206
        },
        "id": "Od6NjbvRvfpJ",
        "outputId": "26745a5b-0daf-497e-9648-3ba9fd342ce5"
      },
      "execution_count": null,
      "outputs": [
        {
          "output_type": "execute_result",
          "data": {
            "text/plain": [
              "   index  price_range\n",
              "0    405            3\n",
              "1   1190            0\n",
              "2   1132            2\n",
              "3    731            2\n",
              "4   1754            2"
            ],
            "text/html": [
              "\n",
              "  <div id=\"df-b2f43ef7-4a1e-46f8-b0c2-da52a5c2ad53\">\n",
              "    <div class=\"colab-df-container\">\n",
              "      <div>\n",
              "<style scoped>\n",
              "    .dataframe tbody tr th:only-of-type {\n",
              "        vertical-align: middle;\n",
              "    }\n",
              "\n",
              "    .dataframe tbody tr th {\n",
              "        vertical-align: top;\n",
              "    }\n",
              "\n",
              "    .dataframe thead th {\n",
              "        text-align: right;\n",
              "    }\n",
              "</style>\n",
              "<table border=\"1\" class=\"dataframe\">\n",
              "  <thead>\n",
              "    <tr style=\"text-align: right;\">\n",
              "      <th></th>\n",
              "      <th>index</th>\n",
              "      <th>price_range</th>\n",
              "    </tr>\n",
              "  </thead>\n",
              "  <tbody>\n",
              "    <tr>\n",
              "      <th>0</th>\n",
              "      <td>405</td>\n",
              "      <td>3</td>\n",
              "    </tr>\n",
              "    <tr>\n",
              "      <th>1</th>\n",
              "      <td>1190</td>\n",
              "      <td>0</td>\n",
              "    </tr>\n",
              "    <tr>\n",
              "      <th>2</th>\n",
              "      <td>1132</td>\n",
              "      <td>2</td>\n",
              "    </tr>\n",
              "    <tr>\n",
              "      <th>3</th>\n",
              "      <td>731</td>\n",
              "      <td>2</td>\n",
              "    </tr>\n",
              "    <tr>\n",
              "      <th>4</th>\n",
              "      <td>1754</td>\n",
              "      <td>2</td>\n",
              "    </tr>\n",
              "  </tbody>\n",
              "</table>\n",
              "</div>\n",
              "      <button class=\"colab-df-convert\" onclick=\"convertToInteractive('df-b2f43ef7-4a1e-46f8-b0c2-da52a5c2ad53')\"\n",
              "              title=\"Convert this dataframe to an interactive table.\"\n",
              "              style=\"display:none;\">\n",
              "        \n",
              "  <svg xmlns=\"http://www.w3.org/2000/svg\" height=\"24px\"viewBox=\"0 0 24 24\"\n",
              "       width=\"24px\">\n",
              "    <path d=\"M0 0h24v24H0V0z\" fill=\"none\"/>\n",
              "    <path d=\"M18.56 5.44l.94 2.06.94-2.06 2.06-.94-2.06-.94-.94-2.06-.94 2.06-2.06.94zm-11 1L8.5 8.5l.94-2.06 2.06-.94-2.06-.94L8.5 2.5l-.94 2.06-2.06.94zm10 10l.94 2.06.94-2.06 2.06-.94-2.06-.94-.94-2.06-.94 2.06-2.06.94z\"/><path d=\"M17.41 7.96l-1.37-1.37c-.4-.4-.92-.59-1.43-.59-.52 0-1.04.2-1.43.59L10.3 9.45l-7.72 7.72c-.78.78-.78 2.05 0 2.83L4 21.41c.39.39.9.59 1.41.59.51 0 1.02-.2 1.41-.59l7.78-7.78 2.81-2.81c.8-.78.8-2.07 0-2.86zM5.41 20L4 18.59l7.72-7.72 1.47 1.35L5.41 20z\"/>\n",
              "  </svg>\n",
              "      </button>\n",
              "      \n",
              "  <style>\n",
              "    .colab-df-container {\n",
              "      display:flex;\n",
              "      flex-wrap:wrap;\n",
              "      gap: 12px;\n",
              "    }\n",
              "\n",
              "    .colab-df-convert {\n",
              "      background-color: #E8F0FE;\n",
              "      border: none;\n",
              "      border-radius: 50%;\n",
              "      cursor: pointer;\n",
              "      display: none;\n",
              "      fill: #1967D2;\n",
              "      height: 32px;\n",
              "      padding: 0 0 0 0;\n",
              "      width: 32px;\n",
              "    }\n",
              "\n",
              "    .colab-df-convert:hover {\n",
              "      background-color: #E2EBFA;\n",
              "      box-shadow: 0px 1px 2px rgba(60, 64, 67, 0.3), 0px 1px 3px 1px rgba(60, 64, 67, 0.15);\n",
              "      fill: #174EA6;\n",
              "    }\n",
              "\n",
              "    [theme=dark] .colab-df-convert {\n",
              "      background-color: #3B4455;\n",
              "      fill: #D2E3FC;\n",
              "    }\n",
              "\n",
              "    [theme=dark] .colab-df-convert:hover {\n",
              "      background-color: #434B5C;\n",
              "      box-shadow: 0px 1px 3px 1px rgba(0, 0, 0, 0.15);\n",
              "      filter: drop-shadow(0px 1px 2px rgba(0, 0, 0, 0.3));\n",
              "      fill: #FFFFFF;\n",
              "    }\n",
              "  </style>\n",
              "\n",
              "      <script>\n",
              "        const buttonEl =\n",
              "          document.querySelector('#df-b2f43ef7-4a1e-46f8-b0c2-da52a5c2ad53 button.colab-df-convert');\n",
              "        buttonEl.style.display =\n",
              "          google.colab.kernel.accessAllowed ? 'block' : 'none';\n",
              "\n",
              "        async function convertToInteractive(key) {\n",
              "          const element = document.querySelector('#df-b2f43ef7-4a1e-46f8-b0c2-da52a5c2ad53');\n",
              "          const dataTable =\n",
              "            await google.colab.kernel.invokeFunction('convertToInteractive',\n",
              "                                                     [key], {});\n",
              "          if (!dataTable) return;\n",
              "\n",
              "          const docLinkHtml = 'Like what you see? Visit the ' +\n",
              "            '<a target=\"_blank\" href=https://colab.research.google.com/notebooks/data_table.ipynb>data table notebook</a>'\n",
              "            + ' to learn more about interactive tables.';\n",
              "          element.innerHTML = '';\n",
              "          dataTable['output_type'] = 'display_data';\n",
              "          await google.colab.output.renderOutput(dataTable, element);\n",
              "          const docLink = document.createElement('div');\n",
              "          docLink.innerHTML = docLinkHtml;\n",
              "          element.appendChild(docLink);\n",
              "        }\n",
              "      </script>\n",
              "    </div>\n",
              "  </div>\n",
              "  "
            ]
          },
          "metadata": {},
          "execution_count": 65
        }
      ]
    }
  ]
}